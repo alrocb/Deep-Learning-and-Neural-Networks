{
  "cells": [
    {
      "cell_type": "markdown",
      "metadata": {
        "id": "ENmsvT8c_pog"
      },
      "source": [
        "# Creating our own Auto Differentiation (AutoGrad) framework\n",
        "\n",
        "In this practical exercise we will build our own, very simple, Auto-differentiation (or AutoGrad) framework."
      ]
    },
    {
      "cell_type": "markdown",
      "metadata": {
        "id": "rBzikp-J_pol"
      },
      "source": [
        "## Coding the framework\n",
        "\n",
        "### Step 1: Define a class for our variables"
      ]
    },
    {
      "cell_type": "markdown",
      "metadata": {
        "id": "gEbyVGjH_pon"
      },
      "source": [
        "The key idea is that we will define our own class of `Variable` which is basically the same as a scalar (a number). So our class is created by passing it a `value`, and it stores this value internally.\n",
        "\n",
        "But apart from being a placeholder for a number, we also want to keep track of the way every variable was created.\n",
        "\n",
        "For example, if a variable $c$ is the result of the addition of two variables $a$ and $b$: $c = a + b$, then we would say that $a$ and $b$ are \"parent\" variables of $c$, and $c$ is their \"child\". The way $c$ was created was by adding these two parent variables together.\n",
        "\n",
        "So apart from the value of the variable, we will also have to keep track of the parents, and on how each of them \"contributes\" to the creation of the variable - this is described by the local derivative associated with each of the parents, that tells us how a change in each of the parent variables translates into a change in the child variable.\n",
        "\n",
        "This is important in order to implement our backwards pass. Each parent defines a \"route\" through which the gradients coming into this variable will have to flow through. So we will define a list of `gradRoutes` that will contain the list of parent variables and their corresponding local derivatives. A variable created directly (not resulting by any operation over existing variables) will have an empty `gradRoutes`.\n",
        "\n",
        "Finally, we want each variable of ours to keep also the value of gradient of the quantity we are interested in with respect to that variable. We will create a placeholder for that as well, called `grad`. As seen before, this will accummulate the gradients that are backpropagated from the children of this variable when we implement the backpropagation algorithm. So we will initialise it to zero."
      ]
    },
    {
      "cell_type": "code",
      "execution_count": 28,
      "metadata": {
        "id": "iqDqpuVW_por"
      },
      "outputs": [],
      "source": [
        "import numpy as np"
      ]
    },
    {
      "cell_type": "code",
      "execution_count": 29,
      "metadata": {
        "id": "lOmgcTR__pov"
      },
      "outputs": [],
      "source": [
        "class Variable: #Simple variable. These are the leafs of our tree, they can request to have a gradient calculated, or not\n",
        "    def __init__(self, value):\n",
        "        self.value = value\n",
        "        self.gradRoutes = [] # A variable by default has no grad Routes (was not created by anything, just defined)\n",
        "        self.grad = 0.0        \n",
        "        \n",
        "    def __str__(self):\n",
        "        return 'Value: {self.value}'.format(self=self)        "
      ]
    },
    {
      "cell_type": "markdown",
      "metadata": {
        "id": "BvBygSfg_pox"
      },
      "source": [
        "Apart from the `__init__()` function which stores the value passed to our class and initialises the `gradRoutes` and `grad` member variables, we have also overloaded the function that python uses to convert a class into a string representation: `__str__()`. This will allow us to print our class.\n",
        "\n",
        "We cannot do much yet with this class, apart from storing values into our variables and printing them out. Let's try this out. "
      ]
    },
    {
      "cell_type": "code",
      "execution_count": 30,
      "metadata": {
        "colab": {
          "base_uri": "https://localhost:8080/"
        },
        "id": "Ae21lfbZ_poy",
        "outputId": "2acf81bc-9a7f-4f4a-8beb-235ec9ab91f8"
      },
      "outputs": [
        {
          "output_type": "stream",
          "name": "stdout",
          "text": [
            "Value: 4.3\n",
            "Value: 5.2\n"
          ]
        }
      ],
      "source": [
        "a = Variable(4.3)\n",
        "b = Variable(5.2)\n",
        "print(a)\n",
        "print(b)"
      ]
    },
    {
      "cell_type": "markdown",
      "metadata": {
        "id": "W91pyXF8_po1"
      },
      "source": [
        "### Step 2: Define operations over our variables"
      ]
    },
    {
      "cell_type": "markdown",
      "metadata": {
        "id": "mGV9cZTT_po2"
      },
      "source": [
        "The next step would be to implement operations on our variables. Let's first define the operations for addition and multiplication.\n",
        "\n",
        "These will be functions that take two variables as input and produce a new (child) variable with a value equal to the sum or the product of the two inputs. Apart from the forward pass though, we should keep track of how this new variable was created: the two parent variables, and their corresponding local derivatives."
      ]
    },
    {
      "cell_type": "code",
      "execution_count": 31,
      "metadata": {
        "id": "YWyuGI-s_po3"
      },
      "outputs": [],
      "source": [
        "def vAdd(A: Variable, B: Variable): # Addition\n",
        "    result = Variable(A.value + B.value) # Create a new Variable to store the result, and pass it the value = a + b\n",
        "          \n",
        "    #keep track of the parent variables, and of the local derivative associated with each one\n",
        "    result.gradRoutes.append((A, 1)) # dresult / dA = 1\n",
        "    result.gradRoutes.append((B, 1)) # dresult / dB = 1\n",
        "    \n",
        "    return result\n",
        "    \n",
        "def vMul(A: Variable, B: Variable): # Addition\n",
        "    result = Variable(A.value * B.value) # Create a new Variable to store the result, and pass it the value = a * b\n",
        "          \n",
        "    #keep track of the parent variables, and of the local derivative associated with each one\n",
        "    result.gradRoutes.append((A, B.value)) # dresult / dA = B\n",
        "    result.gradRoutes.append((B, A.value)) # dresult / dB = A\n",
        "    \n",
        "    return result"
      ]
    },
    {
      "cell_type": "markdown",
      "metadata": {
        "id": "_vS2nRYa_po4"
      },
      "source": [
        "So for example to calculate $d = (a + b) * c$ we first need to calculate $(a + b)$ and then mutiply the result with $c$"
      ]
    },
    {
      "cell_type": "code",
      "execution_count": 32,
      "metadata": {
        "colab": {
          "base_uri": "https://localhost:8080/"
        },
        "id": "Hi67ofOE_po5",
        "outputId": "2001b914-0c5e-4ff9-e9ed-be52f1b99a86"
      },
      "outputs": [
        {
          "output_type": "stream",
          "name": "stdout",
          "text": [
            "Value: 20\n"
          ]
        }
      ],
      "source": [
        "a = Variable(2) # a = 2\n",
        "b = Variable(3) # b = 3\n",
        "c = Variable(4) # c = 4\n",
        "\n",
        "#d = (a + b) * c = 20\n",
        "d = vMul(vAdd(a, b), c)\n",
        "\n",
        "print(d)"
      ]
    },
    {
      "cell_type": "markdown",
      "metadata": {
        "id": "HRZeCa7D_po6"
      },
      "source": [
        "### Step 3: Implement the backpropagation function"
      ]
    },
    {
      "cell_type": "markdown",
      "metadata": {
        "id": "TiMJo9k1_po8"
      },
      "source": [
        "The final step is to implement the backpropagation function. This starts with a child variable, and backpropagates gradients through the routes defined recursively. It uses the two rules that we saw before:\n",
        "\n",
        "- Accumulate the incoming gradients from the different grad routes that lead to a node (a variable). Each of the incoming gradients describe a different way in which the node affects the quantity of interest, so this sum will be the final gradient for the node\n",
        "- Multiply every incoming gradient with each of the local derivatives corresponding to parent variables (this would be the application of the chain rule), and continue the backpropagation through the corresponding route (for each of the parent variables)\n",
        "\n",
        "We update the `Variable` class accordingly. We also update the `__str___()` function to include also gradient information."
      ]
    },
    {
      "cell_type": "code",
      "execution_count": 33,
      "metadata": {
        "id": "LQ9_mFsr_po9"
      },
      "outputs": [],
      "source": [
        "class Variable: #Simple variable. These are the leafs of our tree, they can request to have a gradient calculated, or not\n",
        "    def __init__(self, value):\n",
        "        self.value = value\n",
        "        self.gradRoutes = [] # A variable by default has no grad Routes (was not created by anything, just defined)\n",
        "        self.grad = 0.0\n",
        "    \n",
        "    def backProp(self, route_val = 1.0):\n",
        "        # Add together the incoming gradients from the different routes that lead to a node - this will be the final gradient for the node\n",
        "        self.grad += route_val\n",
        "                \n",
        "        # For every parent variable and corresponding local derivative value that we have in the gradRoutes, continue with the gradient calculation\n",
        "        for variable, local_derivative_value in self.gradRoutes:\n",
        "            # Multiply the incoming gradient with the local derivatives corresponding the parent variable, and continue the backpropagation\n",
        "            variable.backProp(local_derivative_value * route_val)\n",
        "    \n",
        "    def __str__(self):\n",
        "        return 'Value: {self.value}, Gradient: {self.grad}'.format(self=self)"
      ]
    },
    {
      "cell_type": "markdown",
      "metadata": {
        "id": "HkrKFqFy_po_"
      },
      "source": [
        "<font color=blue>**Question:** Why did we set the default value of route_val equal to 1.0?</font>"
      ]
    },
    {
      "cell_type": "markdown",
      "metadata": {
        "id": "Bov5RTyH_ppA"
      },
      "source": [
        "---\n",
        "\n",
        "By definition if I want to backpropagate myself (in the case of the variable) what I will be backpropagating is 1, for that reason the value of route_val is set to 1.\n",
        "\n",
        "\n",
        "---\n"
      ]
    },
    {
      "cell_type": "markdown",
      "metadata": {
        "id": "6IDux7DY_ppB"
      },
      "source": [
        "This should be all. If we want to calculate the derivative of the result with respect to any of the variables that participated in the calculation, we just need to call backprop on the result, and then read the derivatives out."
      ]
    },
    {
      "cell_type": "code",
      "execution_count": 34,
      "metadata": {
        "colab": {
          "base_uri": "https://localhost:8080/"
        },
        "id": "vyWS3s3K_ppB",
        "outputId": "57e12d31-8815-4370-eb0d-b502bb6d46b5"
      },
      "outputs": [
        {
          "output_type": "stream",
          "name": "stdout",
          "text": [
            "Result = 20\n",
            "The derivative of the result with respect to a is: 4.0\n",
            "The derivative of the result with respect to b is: 4.0\n",
            "The derivative of the result with respect to c is: 5.0\n"
          ]
        }
      ],
      "source": [
        "a = Variable(2)           # a = 2\n",
        "b = Variable(3)           # b = 3\n",
        "c = Variable(4)           # c = 4\n",
        "res = vMul(vAdd(a, b), c) # res = (a + b) * c = 20\n",
        "\n",
        "print(\"Result =\", res.value)\n",
        "\n",
        "# Call backprop on the result\n",
        "res.backProp()\n",
        "\n",
        "# Now all variables should contain in their \"grad\" the derivative d(res) / d(variable)\n",
        "print(\"The derivative of the result with respect to a is:\", a.grad)\n",
        "print(\"The derivative of the result with respect to b is:\", b.grad)\n",
        "print(\"The derivative of the result with respect to c is:\", c.grad)"
      ]
    },
    {
      "cell_type": "markdown",
      "metadata": {
        "id": "-8jcvDqK_ppD"
      },
      "source": [
        "In the following example, variable $a$ affects the result through two different routes"
      ]
    },
    {
      "cell_type": "code",
      "execution_count": 35,
      "metadata": {
        "colab": {
          "base_uri": "https://localhost:8080/"
        },
        "id": "BN6jSXWp_ppF",
        "outputId": "cb06baf7-7099-4c6d-9690-ee499aa93cc9"
      },
      "outputs": [
        {
          "output_type": "stream",
          "name": "stdout",
          "text": [
            "Result = 28\n",
            "The derivative of the result with respect to a is: 11.0\n",
            "The derivative of the result with respect to b is: 4.0\n",
            "The derivative of the result with respect to c is: 4.0\n"
          ]
        }
      ],
      "source": [
        "a = Variable(4)  # a = 4\n",
        "b = Variable(3)  # b = 3\n",
        "c = vAdd(a, b)   # c = 4 + 3\n",
        "res = vMul(a, c) # res = a * c = 28\n",
        "\n",
        "print(\"Result =\", res.value)\n",
        "\n",
        "# Call backprop on the result\n",
        "res.backProp()\n",
        "\n",
        "# Now all variables should contain in their \"grad\" the derivative d(res) / d(variable)\n",
        "print(\"The derivative of the result with respect to a is:\", a.grad)\n",
        "print(\"The derivative of the result with respect to b is:\", b.grad)\n",
        "# Also for intermediate results\n",
        "print(\"The derivative of the result with respect to c is:\", c.grad)"
      ]
    },
    {
      "cell_type": "markdown",
      "metadata": {
        "id": "6nqXuNyM_ppH"
      },
      "source": [
        "<font color=blue>**Question:** Can you now use this setup to calculate the derivative of $c$ with respect to $a$ and $b$?</font>"
      ]
    },
    {
      "cell_type": "code",
      "execution_count": 36,
      "metadata": {
        "colab": {
          "base_uri": "https://localhost:8080/"
        },
        "id": "S6zxmQXW_ppI",
        "outputId": "08df6ec8-06c6-4962-abc8-af90ee5ad028"
      },
      "outputs": [
        {
          "output_type": "stream",
          "name": "stdout",
          "text": [
            "Result = 7\n",
            "The derivative of c with respect to a is: 1.0\n",
            "The derivative of c with respect to b is: 1.0\n"
          ]
        }
      ],
      "source": [
        "a = Variable(4)  # a = 4\n",
        "b = Variable(3)  # b = 3\n",
        "c = vAdd(a, b)   # c = 4 + 3\n",
        "\n",
        "print(\"Result =\", c.value)\n",
        "\n",
        "# Call backprop on the result\n",
        "c.backProp()\n",
        "\n",
        "# Now all variables should contain in their \"grad\" the derivative d(res) / d(variable)\n",
        "print(\"The derivative of c with respect to a is:\", a.grad)\n",
        "print(\"The derivative of c with respect to b is:\", b.grad)"
      ]
    },
    {
      "cell_type": "markdown",
      "metadata": {
        "id": "RxCO-REW_ppJ"
      },
      "source": [
        "## Final touches\n",
        "\n",
        "If you understood how this works up to here, then you should be already good to go. But since we want to use our auto grad to do some practical work, we will continue working on it a bit, to make it a bit more usable and complete it with more operations. Many of the subsequent steps are quite \"engineering\" in nature."
      ]
    },
    {
      "cell_type": "markdown",
      "metadata": {
        "id": "Wn6zpmtc_ppK"
      },
      "source": [
        "### Improving usability: overloading operators"
      ]
    },
    {
      "cell_type": "markdown",
      "metadata": {
        "id": "IKKsKSnX_ppL"
      },
      "source": [
        "Of course this is still highly incomplete, very inefficient and not very usable. Lets first improve a usability issue. Instead of having to call different functions for the operations like `res = vMul(a, c)`, we would like to be able to directly write them down like `res = a * b`. To achieve this, we should overload [Python's special functions for operator overloading](https://docs.python.org/3/reference/datamodel.html#emulating-numeric-types).\n",
        "\n",
        "Here's how to do this for the addition and multiplication."
      ]
    },
    {
      "cell_type": "code",
      "execution_count": 67,
      "metadata": {
        "id": "K1qElUue_ppL"
      },
      "outputs": [],
      "source": [
        "class Variable: #Simple variable. These are the leafs of our tree, they can request to have a gradient calculated, or not\n",
        "    def __init__(self, value):\n",
        "        self.value = value\n",
        "        self.gradRoutes = [] # A variable by default has no grad Routes (was not created by anything, just defined)\n",
        "        self.grad = 0.0\n",
        "    \n",
        "    def backProp(self, route_val = 1.0):\n",
        "        # Add together the incoming gradients from the different routes that lead to a node - this will be the final gradient for the node\n",
        "        self.grad += route_val\n",
        "                \n",
        "        # For every parent variable and corresponding local derivative value that we have in the gradRoutes, continue with the gradient calculation\n",
        "        for variable, local_derivative_value in self.gradRoutes:\n",
        "            # Multiply the incoming gradient with the local derivatives corresponding the parent variable, and continue the backpropagation\n",
        "            variable.backProp(local_derivative_value * route_val)\n",
        "            \n",
        "    def __add__(self, b):\n",
        "        return vAdd(self, b)\n",
        "                    \n",
        "    \n",
        "    def __str__(self):\n",
        "        return 'Value: {self.value}, Gradient: {self.grad}'.format(self=self)\n",
        "\n",
        "    def __mul__(self, other):\n",
        "      if isinstance(other, type(self)):\n",
        "        return vMul(self, b)\n",
        "      else:\n",
        "        other=Variable(other)\n",
        "        return vMul(self, other)\n",
        "    \n",
        "    \n",
        "    def __rmul__(self, other):\n",
        "        return self.__mul__(other)\n"
      ]
    },
    {
      "cell_type": "code",
      "execution_count": 38,
      "metadata": {
        "colab": {
          "base_uri": "https://localhost:8080/"
        },
        "id": "h8YZBLeg_ppM",
        "outputId": "47847c29-456e-488c-b09b-ff399abd8058"
      },
      "outputs": [
        {
          "output_type": "stream",
          "name": "stdout",
          "text": [
            "Result = 28\n",
            "The derivative of the result with respect to a is: 11.0\n",
            "The derivative of the result with respect to b is: 4.0\n",
            "The derivative of the result with respect to c is: 4.0\n"
          ]
        }
      ],
      "source": [
        "a = Variable(4)  # a = 4\n",
        "b = Variable(3)  # b = 3\n",
        "c = a + b        # c = 4 + 3\n",
        "res = a * c      # res = a * c = 28\n",
        "\n",
        "print(\"Result =\", res.value)\n",
        "\n",
        "# Call backprop on the result\n",
        "res.backProp()\n",
        "\n",
        "# Now all variables should contain in their \"grad\" the derivative d(res) / d(variable)\n",
        "print(\"The derivative of the result with respect to a is:\", a.grad)\n",
        "print(\"The derivative of the result with respect to b is:\", b.grad)\n",
        "# Also for intermediate results\n",
        "print(\"The derivative of the result with respect to c is:\", b.grad)"
      ]
    },
    {
      "cell_type": "markdown",
      "metadata": {
        "id": "mcpxj4NO_ppO"
      },
      "source": [
        "### Zeroing gradients"
      ]
    },
    {
      "cell_type": "markdown",
      "metadata": {
        "id": "TvzEKnSi_ppO"
      },
      "source": [
        "A last thing to note is that once we call `backProp`, our gradients are calculated and our variables are now \"dirty\" in the sense that if we call backprop again, the new result will be added to the previous one:"
      ]
    },
    {
      "cell_type": "code",
      "execution_count": 39,
      "metadata": {
        "colab": {
          "base_uri": "https://localhost:8080/"
        },
        "id": "40JQTMyO_ppP",
        "outputId": "826b4f1c-175f-45e3-8a90-c7c88747210a"
      },
      "outputs": [
        {
          "output_type": "stream",
          "name": "stdout",
          "text": [
            "The derivative of the result with respect to a is: 11.0\n",
            "The derivative of the result with respect to b is: 4.0\n",
            "Second time\n",
            "The derivative of the result with respect to a is: 22.0\n",
            "The derivative of the result with respect to b is: 8.0\n"
          ]
        }
      ],
      "source": [
        "a = Variable(4)   # a = 4\n",
        "b = Variable(3)   # b = 3\n",
        "res = (a + b) * a # res = a * c = 28\n",
        "\n",
        "# Call backprop on the result\n",
        "res.backProp()\n",
        "print(\"The derivative of the result with respect to a is:\", a.grad)\n",
        "print(\"The derivative of the result with respect to b is:\", b.grad)\n",
        "\n",
        "# Call backprop on the result once more\n",
        "print(\"Second time\")\n",
        "res.backProp()\n",
        "print(\"The derivative of the result with respect to a is:\", a.grad)\n",
        "print(\"The derivative of the result with respect to b is:\", b.grad)"
      ]
    },
    {
      "cell_type": "markdown",
      "metadata": {
        "id": "BHcxnoPN_ppQ"
      },
      "source": [
        "This will actually turn out to be quite useful, e.g. when we want to accumulate weight gradients over different samples in our learning loops (see next week's notebook), but we need a way to control it.\n",
        "\n",
        "To avoid this, we should reset the gradients to zero before we call `backProp` again. We can do it one by one for every variable, but we will also implement a function that does this recursively from the child node we backProped, all the way to the parents."
      ]
    },
    {
      "cell_type": "code",
      "execution_count": 56,
      "metadata": {
        "id": "3qWKwfNI_ppR"
      },
      "outputs": [],
      "source": [
        "class Variable: #Simple variable. These are the leafs of our tree, they can request to have a gradient calculated, or not\n",
        "    def __init__(self, value):\n",
        "        self.value = value\n",
        "        self.gradRoutes = [] # A variable by default has no grad Routes (was not created by anything, just defined)\n",
        "        self.grad = 0.0\n",
        "    \n",
        "    def backProp(self, route_val = 1.0):\n",
        "        # Add together the incoming gradients from the different routes that lead to a node - this will be the final gradient for the node\n",
        "        self.grad += route_val\n",
        "                \n",
        "        # For every parent variable and corresponding local derivative value that we have in the gradRoutes, continue with the gradient calculation\n",
        "        for variable, local_derivative_value in self.gradRoutes:\n",
        "            # Multiply the incoming gradient with the local derivatives corresponding the parent variable, and continue the backpropagation\n",
        "            variable.backProp(local_derivative_value * route_val)\n",
        "\n",
        "    def zeroGrad(self):\n",
        "        self.grad = 0.0\n",
        "        \n",
        "    def zeroGradsRecursively(self):\n",
        "        self.zeroGrad()\n",
        "        for variable, _ in self.gradRoutes:\n",
        "            variable.zeroGradsRecursively()\n",
        "            \n",
        "    def __add__(self, b):\n",
        "        return vAdd(self, b)\n",
        "        \n",
        "    def __mul__(self, b):\n",
        "        return vMul(self, b)           \n",
        "    \n",
        "    def __str__(self):\n",
        "        return 'Value: {self.value}, Gradient: {self.grad}'.format(self=self)\n",
        "\n",
        "\n"
      ]
    },
    {
      "cell_type": "code",
      "execution_count": 41,
      "metadata": {
        "colab": {
          "base_uri": "https://localhost:8080/"
        },
        "id": "WQFi9y9Q_ppS",
        "outputId": "34c12775-2f7f-4d91-9918-464cdad20152"
      },
      "outputs": [
        {
          "output_type": "stream",
          "name": "stdout",
          "text": [
            "The derivative of the result with respect to a is: 11.0\n",
            "The derivative of the result with respect to b is: 4.0\n",
            "Second time\n",
            "The derivative of the result with respect to a is: 11.0\n",
            "The derivative of the result with respect to b is: 4.0\n"
          ]
        }
      ],
      "source": [
        "a = Variable(4)   # a = 4\n",
        "b = Variable(3)   # b = 3\n",
        "res = (a + b) * a # res = a * c = 28\n",
        "\n",
        "# Call backprop on the result\n",
        "res.backProp()\n",
        "print(\"The derivative of the result with respect to a is:\", a.grad)\n",
        "print(\"The derivative of the result with respect to b is:\", b.grad)\n",
        "\n",
        "# Zero gradients\n",
        "res.zeroGradsRecursively()\n",
        "\n",
        "# Call backprop on the result once more\n",
        "print(\"Second time\")\n",
        "res.backProp()\n",
        "print(\"The derivative of the result with respect to a is:\", a.grad)\n",
        "print(\"The derivative of the result with respect to b is:\", b.grad)"
      ]
    },
    {
      "cell_type": "markdown",
      "metadata": {
        "id": "61JpgUHD_ppS"
      },
      "source": [
        "## More Improvements - Homework"
      ]
    },
    {
      "cell_type": "markdown",
      "metadata": {
        "id": "Yc8pDKCM_ppT"
      },
      "source": [
        "There are number of ways we can improve our simple network. The most important is probably being able to work with vectors and matrices - we will not implement this ourselves though, next week we will see a framework that does this. For the time being, we will focus on other, simpler improvements."
      ]
    },
    {
      "cell_type": "markdown",
      "metadata": {
        "id": "515Y4BPH_ppU"
      },
      "source": [
        "---\n",
        "### <font color=blue>Excercise 1 (Easy):</font>\n",
        "    \n",
        "<font color=blue>We usually do not require gradients for all our variables. If we could indicate which variables require gradients, then we could keep track of the routes that lead to these variables only and drop all the rest. This would be a huge improvement in resources and speed (number of calculations). Can you add this functionality?</font>"
      ]
    },
    {
      "cell_type": "code",
      "execution_count": 42,
      "metadata": {
        "id": "PUOJiiMh_ppV"
      },
      "outputs": [],
      "source": [
        "    def __init__(self, value):\n",
        "        self.value = value\n",
        "        self.gradRoutes = [] # A variable by default has no grad Routes (was not created by anything, just defined)\n",
        "        self.grad = 0.0\n",
        "        self.requires_gradient = False\n",
        "\n",
        "    def zeroGradsRecursively(self):\n",
        "      if self.requires_gradient == True:\n",
        "        self.zeroGrad()\n",
        "        for variable, _ in self.gradRoutes:\n",
        "            variable.zeroGradsRecursively()"
      ]
    },
    {
      "cell_type": "markdown",
      "metadata": {
        "id": "uF9KTRIo_ppW"
      },
      "source": [
        "---\n",
        "### <font color=blue>Excercise 2 (Normal):</font>\n",
        "    \n",
        "<font color=blue>We obviously need to implement more functions - implement the following functions:\n",
        "- Subtraction\n",
        "- Raising to a power\n",
        "- Division\n",
        "- Unary negation\n",
        "- The (natural) exponential function exp(x)\n",
        "- ... any other function you might want</font>"
      ]
    },
    {
      "cell_type": "code",
      "execution_count": 43,
      "metadata": {
        "id": "TBL37ocZ_ppW"
      },
      "outputs": [],
      "source": [
        "def vSub(A: Variable, B: Variable): \n",
        "    result = Variable(A.value - B.value) \n",
        "          \n",
        "    result.gradRoutes.append((A, 1)) \n",
        "    result.gradRoutes.append((B, 1)) \n",
        "    \n",
        "    return result\n"
      ]
    },
    {
      "cell_type": "code",
      "source": [
        "def __sub__(self, b):\n",
        "        return vSub(self, b)"
      ],
      "metadata": {
        "id": "dHGs3p-il4ns"
      },
      "execution_count": 44,
      "outputs": []
    },
    {
      "cell_type": "code",
      "source": [
        "def vDiv(A: Variable, B: Variable): \n",
        "    result = Variable(A.value / B.value) \n",
        "          \n",
        "    result.gradRoutes.append((A, 1/B.value)) \n",
        "    result.gradRoutes.append((B, 1/A.value)) \n",
        "    \n",
        "    return result"
      ],
      "metadata": {
        "id": "khFENZEyjSHR"
      },
      "execution_count": 45,
      "outputs": []
    },
    {
      "cell_type": "code",
      "source": [
        "def __div__(self, b):\n",
        "        return vDiv(self, b)"
      ],
      "metadata": {
        "id": "PJNJnlRTmYCM"
      },
      "execution_count": 46,
      "outputs": []
    },
    {
      "cell_type": "code",
      "source": [
        "import numpy as np\n",
        "\n",
        "def vPower(A: Variable, B: Variable): \n",
        "    result = Variable(A.value ** B.value) \n",
        "\n",
        "    x=A.value\n",
        "    y=B.value\n",
        "          \n",
        "    result.gradRoutes.append((A,y*x**y-1 )) \n",
        "    result.gradRoutes.append((B, x**y*np.log(x))) \n",
        "    \n",
        "    return result"
      ],
      "metadata": {
        "id": "2ot90dHRjYZx"
      },
      "execution_count": 47,
      "outputs": []
    },
    {
      "cell_type": "code",
      "source": [
        "def __pow__(self, b):\n",
        "        return vPower(self, b)"
      ],
      "metadata": {
        "id": "HQkwM3oSn3-h"
      },
      "execution_count": 48,
      "outputs": []
    },
    {
      "cell_type": "code",
      "source": [
        "def vUneg(A: Variable): # Unary negation\n",
        "    result = (Variable(A.value * -1)) # Create a new Variable to store the result, and pass it the value = -a\n",
        "          \n",
        "    #keep track of the parent variables, and of the local derivative associated with each one\n",
        "    #tuple (parent, derivative)\n",
        "    result.gradRoutes.append((A, -1)) # dresult / dA = B\n",
        "    \n",
        "    return result\n"
      ],
      "metadata": {
        "id": "2GuSNyCKoRp9"
      },
      "execution_count": 49,
      "outputs": []
    },
    {
      "cell_type": "code",
      "source": [
        "def __neg__(self): \n",
        "  return vUneg(self)"
      ],
      "metadata": {
        "id": "IXJPOR3HAbNo"
      },
      "execution_count": 50,
      "outputs": []
    },
    {
      "cell_type": "code",
      "source": [
        "def vExp(A: Variable): # Exponential\n",
        "    result = Variable(math.exp(A.value)) # Create a new Variable to store the result, and pass it the value = exp(a)\n",
        "          \n",
        "    #keep track of the parent variables, and of the local derivative associated with each one\n",
        "    #tuple (parent, derivative)\n",
        "    result.gradRoutes.append((A, e ** A.value)) # dresult / dA = B\n",
        "    \n",
        "    return result"
      ],
      "metadata": {
        "id": "rrQNYg5kAZgp"
      },
      "execution_count": 51,
      "outputs": []
    },
    {
      "cell_type": "code",
      "source": [
        "def exp(self):\n",
        "  return vExp(self)"
      ],
      "metadata": {
        "id": "3FSdf_XsAb5f"
      },
      "execution_count": 52,
      "outputs": []
    },
    {
      "cell_type": "markdown",
      "metadata": {
        "id": "AZGhGcZ3_ppX"
      },
      "source": [
        "---\n",
        "### <font color=blue>Excercise 3 (Difficult):</font>\n",
        "    \n",
        "<font color=blue>Our operations currently accept only instances of our Variable class as inputs. So, if you wanted to calculate `a = b * 2` where `b` is an instance of our variable class and `2` is just a numerical constant you would get an error as our framework does not know how to multiply a `Variable` with a number. You should instead write `a = b * Variable(2)` to achieve this.</font>\n",
        "\n",
        "<font color=blue>Improve further the usability of our framework by allowing our functions to mix numbers and Variables in the same operation (look also into the overloads of the [reflected operands in python](https://docs.python.org/3/reference/datamodel.html#object.__radd__))</font>\n",
        "\n",
        "*Hint: look at the `isinstance()` function*\n",
        "\n",
        "*Hint: You might also want to look for reflected operators...*"
      ]
    },
    {
      "cell_type": "code",
      "execution_count": 68,
      "metadata": {
        "id": "x7nzunmv_ppY"
      },
      "outputs": [],
      "source": [
        "\n",
        "\n",
        "c = Variable(2)\n",
        "d = 3\n",
        "\n",
        "result= c*d\n",
        "result2= d*c\n"
      ]
    },
    {
      "cell_type": "code",
      "source": [
        "print(result)\n",
        "print(result2)"
      ],
      "metadata": {
        "colab": {
          "base_uri": "https://localhost:8080/"
        },
        "id": "nf6MeYnkDtwh",
        "outputId": "ec2f4c77-4d23-44ab-d456-8115e6ad7b46"
      },
      "execution_count": 71,
      "outputs": [
        {
          "output_type": "stream",
          "name": "stdout",
          "text": [
            "Value: 6, Gradient: 0.0\n",
            "Value: 6, Gradient: 0.0\n"
          ]
        }
      ]
    },
    {
      "cell_type": "markdown",
      "metadata": {
        "id": "-gm1jzol_ppZ"
      },
      "source": [
        "---\n",
        "### <font color=blue>Excercise 4 (Very Difficult):</font>\n",
        "    \n",
        "<font color=blue>Instead of keeping track of the local derivative value and doing the multiplication between the local derivative value and the incoming gradient explicitly, it is better to keep track of the actual function used to calculate the local derivative and combine it with the incoming one (the `route_val`). The idea is to keep a note of the recipe for calculating the local derivative value instead of the value itself.</font>\n",
        "\n",
        "<font color=blue>In our case, since we deal with scalars, this function would basically boil down to doing this multiplication with the `route_val` (applying the chain rule), but when we vectorise our inputs and start dealing with tensors instead of scalars (and `route_val` becomes a matrix), this will become a bit more complicated (a dot product). So, keeping track of the function instead of the local derivative value will allow us to easily extend this framework to this scenario.</font>\n",
        "\n",
        "<font color=blue>In addition, keeping a note of the function instead of the value, allows us to abstract away stuff. This basically means that we can build the computation graph first, with placeholder variables independently of specific input values, and then reuse it for different inputs. This is how many deep learning frameworks work.</font>"
      ]
    },
    {
      "cell_type": "code",
      "execution_count": null,
      "metadata": {
        "id": "rwfRVmtJ_ppa"
      },
      "outputs": [],
      "source": [
        "# Your Code Here\n"
      ]
    },
    {
      "cell_type": "markdown",
      "metadata": {
        "id": "iokyN8cW_ppa"
      },
      "source": [
        "---\n",
        "### <font color=blue>Excercise 5 (Easy):</font>\n",
        "    \n",
        "<font color=blue>Write some code to manually check that your gradient calculation is correct, using the property of:</font>\n",
        "\n",
        "$$\n",
        "f'(x) = \\frac {f(x+\\epsilon) - f(x-\\epsilon)}{2 \\epsilon}\n",
        "$$\n",
        "\n",
        "<font color=blue>where $\\epsilon$ is a very small number to approximately calculate the gradient. Then use it to calculate the derivative of the function $f(x) = 21 * x^3$ at $x=3.2$. Double check that our framework gives you the same result.</font>"
      ]
    },
    {
      "cell_type": "code",
      "execution_count": null,
      "metadata": {
        "id": "PCF7cITO_ppb"
      },
      "outputs": [],
      "source": [
        "def grad_check(x, eps= 0.000006):\n",
        "    grad = (f(x+eps) - f(x-eps)) / (2*eps)\n",
        "    return grad\n",
        "\n",
        "\n",
        "x = 3.2\n",
        "def f(x):\n",
        "    return 21 * x**3\n",
        "gradient= grad_check(x)\n",
        "print (gradient)"
      ]
    }
  ],
  "metadata": {
    "kernelspec": {
      "display_name": "pytorch",
      "language": "python",
      "name": "pytorch"
    },
    "language_info": {
      "codemirror_mode": {
        "name": "ipython",
        "version": 3
      },
      "file_extension": ".py",
      "mimetype": "text/x-python",
      "name": "python",
      "nbconvert_exporter": "python",
      "pygments_lexer": "ipython3",
      "version": "3.7.16"
    },
    "colab": {
      "provenance": []
    },
    "gpuClass": "standard"
  },
  "nbformat": 4,
  "nbformat_minor": 0
}