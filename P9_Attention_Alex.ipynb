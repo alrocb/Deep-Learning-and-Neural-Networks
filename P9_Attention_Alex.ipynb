{
  "cells": [
    {
      "cell_type": "markdown",
      "metadata": {
        "id": "-JGr-h1xvTOZ"
      },
      "source": [
        "# MNIST Simple Pointer Network\n",
        "\n",
        "In this notebook we will learn how to create a simple [Pointer Network](https://arxiv.org/abs/1506.03134) (Vinyals et al. 2015) for solving a dummy task on the MNIST dataset.\n",
        "\n",
        "A Pointer Network uses the **attention mechanism’s** output to model the conditional probability of each element on its input. This can be extremely useful in tasks that require selecting one (or more) elements of the input sequence/set to be solved.\n",
        "\n",
        "In this notebook we will play with a simple Pointer net to solve the following task: Given an MNIST image with a (query) digit we want our model to find the image that contains the consecutive digit to the query image among a set of input images. For example, imagine we use an image with the digit \"5\" as query and let the input of the model be a set of 10 images with different digits, the output of our model must be a probability distribution over those 10 images indicating the presence or not of the digit \"6\" in each of them."
      ]
    },
    {
      "cell_type": "code",
      "execution_count": 48,
      "metadata": {
        "colab": {
          "base_uri": "https://localhost:8080/"
        },
        "id": "h4Z7-Wm7_5K6",
        "outputId": "c8fa9ed2-17d7-48a3-dcbb-dd900dd34115"
      },
      "outputs": [
        {
          "output_type": "stream",
          "name": "stdout",
          "text": [
            "PyTorch Version:  2.0.0+cu118\n"
          ]
        }
      ],
      "source": [
        "import torch\n",
        "import torchvision\n",
        "import torch.nn as nn\n",
        "import torch.optim as optim\n",
        "import numpy as np\n",
        "from torch.utils.data import Dataset, DataLoader\n",
        "\n",
        "import matplotlib.pyplot as plt\n",
        "from collections import Counter\n",
        "import time\n",
        "import os\n",
        "import copy\n",
        "print(\"PyTorch Version: \",torch.__version__)\n",
        "import math"
      ]
    },
    {
      "cell_type": "code",
      "execution_count": 3,
      "metadata": {
        "id": "RNJh2q4lQGYF",
        "colab": {
          "base_uri": "https://localhost:8080/"
        },
        "outputId": "77ace49f-bec0-40a5-8b68-42e3131ff542"
      },
      "outputs": [
        {
          "output_type": "stream",
          "name": "stdout",
          "text": [
            "Using device: cuda\n"
          ]
        }
      ],
      "source": [
        "#If this cell fails you need to change the runtime of your colab notebook to GPU\n",
        "# Go to Runtime -> Change Runtime Type and select GPU\n",
        "assert torch.cuda.is_available(), \"GPU is not enabled\"\n",
        "\n",
        "#  use gpu if available\n",
        "device = torch.device(\"cuda\" if torch.cuda.is_available() else \"cpu\")\n",
        "print(\"Using device:\", device)"
      ]
    },
    {
      "cell_type": "markdown",
      "metadata": {
        "id": "CyM0DXter9Mp"
      },
      "source": [
        "### Create the dataset\n",
        "\n",
        "Let's start creating a Dataset class to understand better the task we want to solve. Each sample in out dataset will be formed by:\n",
        "\n",
        "* a query image\n",
        "* a set of 10 images, 9 of them selected randomly (distractors) and one selected as the consecutive digit of the digit in the query image.\n",
        "* the ground truth: a 10-D one hot vector indicating the position of the image we want our model to select (\"point to\")."
      ]
    },
    {
      "cell_type": "code",
      "execution_count": 4,
      "metadata": {
        "id": "XksdVS7GHWw0"
      },
      "outputs": [],
      "source": [
        "class MNISTAttentionDataset(Dataset):\n",
        "    \"\"\"MNIST attention toy dataset.\"\"\"\n",
        "\n",
        "    def __init__(self, num_inputs, train=True):\n",
        "        \"\"\"\n",
        "        Args:\n",
        "            num_inputs (int) - The number of images in the input of our model.\n",
        "            train (bool, optional) – If True, creates dataset from MNIST training\n",
        "                samples, otherwise from test\n",
        "        \"\"\"\n",
        "        \n",
        "        self.num_inputs = num_inputs\n",
        "        self.mnist = torchvision.datasets.MNIST('../data', train=train, download=True)\n",
        "        \n",
        "        # dict with samples for each class label\n",
        "        self.data = {}\n",
        "        for label in range(10):\n",
        "            #Collect in separate lists the different digits, and normalise values to [0, 1]\n",
        "            self.data[label] = self.mnist.data[self.mnist.targets == label] / 255.0\n",
        "\n",
        "        \n",
        "\n",
        "    def __len__(self):\n",
        "        # The length makes little sense here, as we generate samples dynamically\n",
        "        # Here we return the number of images originally in the dataset\n",
        "        return self.mnist.data.shape[0]\n",
        "\n",
        "    def __getitem__(self, idx):\n",
        "        \"\"\"\n",
        "        Args:\n",
        "            idx (int) - an index indicating which digit should be used as query\n",
        "        \"\"\"\n",
        "        c = self.mnist.targets[idx].item()     # Find out which is the class of the digit requested\n",
        "        query = self.mnist.data[idx].flatten() / 255.0 # Get the data for the digit requested\n",
        "\n",
        "        correct_pos = np.random.randint(0, self.num_inputs) # Decide on a random position where the correct answer will be\n",
        "        \n",
        "        inputs = np.zeros((self.num_inputs, 784)) # Create an array to hold the inputs (from which we have to select one)\n",
        "        for j in range(self.num_inputs):\n",
        "            if j == correct_pos: # In the correct position, place a random digit that comes from the c+1 class\n",
        "                idx = np.random.randint(0,self.data[(c+1)%10].shape[0])\n",
        "                inputs[j,:] = self.data[(c+1)%10][idx,:].flatten()\n",
        "            else: # In the rest of the positions, place random digits that come from the rest of the classes\n",
        "                c_distractor = np.random.choice([n for n in [0,1,2,3,4,5,6,7,8,9] if n!=(c+1)%10])\n",
        "                idx = np.random.randint(0,self.data[c_distractor].shape[0])\n",
        "                inputs[j,:] = self.data[c_distractor][idx,:].flatten()\n",
        "            \n",
        "        sample = {'x': inputs, 'query': query, 'y': correct_pos}\n",
        "\n",
        "        return sample"
      ]
    },
    {
      "cell_type": "code",
      "execution_count": 5,
      "metadata": {
        "id": "hL2kwN-kpjUc",
        "colab": {
          "base_uri": "https://localhost:8080/"
        },
        "outputId": "2d90130d-1cc6-4cbf-e808-8a815976ea29"
      },
      "outputs": [
        {
          "output_type": "stream",
          "name": "stdout",
          "text": [
            "Downloading http://yann.lecun.com/exdb/mnist/train-images-idx3-ubyte.gz\n",
            "Downloading http://yann.lecun.com/exdb/mnist/train-images-idx3-ubyte.gz to ../data/MNIST/raw/train-images-idx3-ubyte.gz\n"
          ]
        },
        {
          "output_type": "stream",
          "name": "stderr",
          "text": [
            "100%|██████████| 9912422/9912422 [00:00<00:00, 84203119.45it/s]\n"
          ]
        },
        {
          "output_type": "stream",
          "name": "stdout",
          "text": [
            "Extracting ../data/MNIST/raw/train-images-idx3-ubyte.gz to ../data/MNIST/raw\n",
            "\n",
            "Downloading http://yann.lecun.com/exdb/mnist/train-labels-idx1-ubyte.gz\n",
            "Downloading http://yann.lecun.com/exdb/mnist/train-labels-idx1-ubyte.gz to ../data/MNIST/raw/train-labels-idx1-ubyte.gz\n"
          ]
        },
        {
          "output_type": "stream",
          "name": "stderr",
          "text": [
            "100%|██████████| 28881/28881 [00:00<00:00, 11914595.64it/s]\n"
          ]
        },
        {
          "output_type": "stream",
          "name": "stdout",
          "text": [
            "Extracting ../data/MNIST/raw/train-labels-idx1-ubyte.gz to ../data/MNIST/raw\n",
            "\n",
            "Downloading http://yann.lecun.com/exdb/mnist/t10k-images-idx3-ubyte.gz\n",
            "Downloading http://yann.lecun.com/exdb/mnist/t10k-images-idx3-ubyte.gz to ../data/MNIST/raw/t10k-images-idx3-ubyte.gz\n"
          ]
        },
        {
          "output_type": "stream",
          "name": "stderr",
          "text": [
            "100%|██████████| 1648877/1648877 [00:00<00:00, 26580158.33it/s]\n"
          ]
        },
        {
          "output_type": "stream",
          "name": "stdout",
          "text": [
            "Extracting ../data/MNIST/raw/t10k-images-idx3-ubyte.gz to ../data/MNIST/raw\n",
            "\n",
            "Downloading http://yann.lecun.com/exdb/mnist/t10k-labels-idx1-ubyte.gz\n",
            "Downloading http://yann.lecun.com/exdb/mnist/t10k-labels-idx1-ubyte.gz to ../data/MNIST/raw/t10k-labels-idx1-ubyte.gz\n"
          ]
        },
        {
          "output_type": "stream",
          "name": "stderr",
          "text": [
            "100%|██████████| 4542/4542 [00:00<00:00, 1546058.17it/s]\n"
          ]
        },
        {
          "output_type": "stream",
          "name": "stdout",
          "text": [
            "Extracting ../data/MNIST/raw/t10k-labels-idx1-ubyte.gz to ../data/MNIST/raw\n",
            "\n"
          ]
        }
      ],
      "source": [
        "num_inputs = 10\n",
        "\n",
        "train_dataset = MNISTAttentionDataset(num_inputs, train=True)\n",
        "test_dataset = MNISTAttentionDataset(num_inputs, train=False)\n",
        "\n",
        "train_loader = DataLoader(train_dataset, batch_size = 64, shuffle = True)\n",
        "test_loader  = DataLoader(test_dataset, batch_size = 1000, shuffle = True)"
      ]
    },
    {
      "cell_type": "markdown",
      "metadata": {
        "id": "RES5R0CMr3bE"
      },
      "source": [
        "### Visualize one training sample"
      ]
    },
    {
      "cell_type": "code",
      "execution_count": 6,
      "metadata": {
        "colab": {
          "base_uri": "https://localhost:8080/",
          "height": 138
        },
        "id": "fJY6zR_lqR41",
        "outputId": "0acf755b-8f64-468f-e101-d0f2f28077eb"
      },
      "outputs": [
        {
          "output_type": "stream",
          "name": "stdout",
          "text": [
            "Data: (10, 784), Query: torch.Size([784])\n"
          ]
        },
        {
          "output_type": "display_data",
          "data": {
            "text/plain": [
              "<Figure size 3300x300 with 11 Axes>"
            ],
            "image/png": "[encoded data removed]"
          },
          "metadata": {}
        }
      ],
      "source": [
        "sample = train_dataset[0]\n",
        "\n",
        "print(f\"Data: {sample['x'].shape}, Query: {sample['query'].shape}\")\n",
        "\n",
        "fig = plt.figure(figsize=(33, 3))\n",
        "plt.tight_layout()\n",
        "\n",
        "ax = plt.subplot(1, num_inputs + 1, 1)\n",
        "image = sample['query'].reshape(28,28)\n",
        "plt.imshow(image, cmap='gray')\n",
        "plt.plot([0,27,27,0,0], [0,0,27,27,0], c='b') # Draw a blue box around the query sample\n",
        "ax.set_title('Query')\n",
        "ax.axis('off')\n",
        "\n",
        "for i in range(num_inputs):\n",
        "    ax = plt.subplot(1, num_inputs + 1, i+2)\n",
        "    ax.set_title('Sample #{}'.format(i))\n",
        "    ax.axis('off')\n",
        "    image = sample['x'][i].reshape(28,28)\n",
        "    plt.imshow(image, cmap='gray')\n",
        "    if i == sample['y']:\n",
        "        plt.plot([0,27,27,0,0], [0,0,27,27,0], c='g') # Draw a green box around the correct sample\n",
        "        ax.set_title('Target')\n",
        "    else:\n",
        "        plt.plot([0,27,27,0,0], [0,0,27,27,0], c='r') # Draw a blue box around the wrong sample\n",
        "        ax.set_title('Distractor #{}'.format(i))\n",
        "    ax.axis('off')\n",
        "\n",
        "plt.show()"
      ]
    },
    {
      "cell_type": "markdown",
      "metadata": {
        "id": "DVaMM-n2sFF6"
      },
      "source": [
        "### Create the model"
      ]
    },
    {
      "cell_type": "code",
      "execution_count": 7,
      "metadata": {
        "id": "BesD8B1BAW9u"
      },
      "outputs": [],
      "source": [
        "class AttentionModel(nn.Module):\n",
        "    def __init__(self, input_dim, num_inputs, hidden_dim):\n",
        "        super(AttentionModel, self).__init__()\n",
        "        self.hidden_dim = hidden_dim\n",
        "        self.num_inputs = num_inputs\n",
        "        self.input_dim  = input_dim\n",
        "\n",
        "        # Weights (Fully Connected layers) \n",
        "        self.fc_q = nn.Linear(input_dim, hidden_dim) # Query FC\n",
        "        self.fc_k = nn.Linear(input_dim, hidden_dim) # Keys FC. Here the input acts as the keys, and there is no value\n",
        "        self.fc_v = nn.Linear(hidden_dim, 1) # Values FC\n",
        "\n",
        "    def scoringAdditive(self, query, keys):\n",
        "        # Query is                                              (B X 1 X input_dim)\n",
        "        # Repeat (tile) the query so that it has the same size as the keys (input)\n",
        "        query = query.repeat(1, self.num_inputs, 1)           # (B X num_inputs X input_dim)\n",
        "        query = torch.tanh(self.fc_q(query))                  # (B X num_inputs X hidden_dim)\n",
        "\n",
        "        # Keys is                                               (B X num_inputs X input_dim)\n",
        "        keys = torch.tanh(self.fc_k(keys))                    # (B X num_inputs X hidden_dim)\n",
        "        \n",
        "        # Attention Score\n",
        "        score = torch.tanh(query + keys )                     # (B X num_inputs X hidden_dim)\n",
        "        score = self.fc_v(score)                              # (B X num_inputs X 1)        \n",
        "        return score\n",
        "\n",
        "    def forward(self, x, query):\n",
        "        query = query.unsqueeze(1) # (B x input_dim) -> (B x 1 x input_dim)\n",
        "        \n",
        "        # Calculate attention scores\n",
        "        output = self.scoringAdditive(query, x)\n",
        "        output = output.squeeze()       # (B x 1 x num_inputs) -> (B x num_inputs)\n",
        "        return output"
      ]
    },
    {
      "cell_type": "markdown",
      "metadata": {
        "id": "y_yCyvgg9Pbj"
      },
      "source": [
        "<font color=\"blue\">\n",
        "\n",
        "**QUESTION**: The Additive score gives logits that we should pass through a softmax to get the final attention weights. Why is there no softmax in the model above?</font>"
      ]
    },
    {
      "cell_type": "markdown",
      "metadata": {
        "id": "yQ63QH5V5Naa"
      },
      "source": [
        "\n",
        "**ANSWER**: Since we will be using the CrossEntropyLoss() function, it consists of the loss function itself but also the softmax afterwards."
      ]
    },
    {
      "cell_type": "code",
      "execution_count": 8,
      "metadata": {
        "colab": {
          "base_uri": "https://localhost:8080/"
        },
        "id": "nsyUZE0lHJ5-",
        "outputId": "3ca88dde-71dc-4276-c200-bbc6ffd35e96"
      },
      "outputs": [
        {
          "output_type": "stream",
          "name": "stdout",
          "text": [
            "AttentionModel(\n",
            "  (fc_q): Linear(in_features=784, out_features=256, bias=True)\n",
            "  (fc_k): Linear(in_features=784, out_features=256, bias=True)\n",
            "  (fc_v): Linear(in_features=256, out_features=1, bias=True)\n",
            ")\n"
          ]
        }
      ],
      "source": [
        "input_dim, num_inputs, hidden_dim = (784, 10, 256)\n",
        "\n",
        "model = AttentionModel(input_dim, num_inputs, hidden_dim)\n",
        "print(model)"
      ]
    },
    {
      "cell_type": "markdown",
      "metadata": {
        "id": "xmp0kuk2z3Rx"
      },
      "source": [
        "### Define the training method and train"
      ]
    },
    {
      "cell_type": "code",
      "execution_count": 9,
      "metadata": {
        "id": "6ZvGWqwDrc-V"
      },
      "outputs": [],
      "source": [
        "def train(model, device, train_loader, criterion, optimizer, epoch, log_interval = 100):\n",
        "    # Method to perform one epoch of training\n",
        "    model.train()\n",
        "    loss_values = []\n",
        "    \n",
        "    for batch_idx, sample_batched in enumerate(train_loader):\n",
        "        data = sample_batched['x'].float()\n",
        "        query = sample_batched['query'].float()\n",
        "        target = sample_batched['y']\n",
        "        #print(data.shape, query.shape)\n",
        "        data, query, target = data.to(device), query.to(device), target.to(device)\n",
        "        \n",
        "        optimizer.zero_grad()\n",
        "        output = model(data, query)\n",
        "        loss = criterion(output, target)\n",
        "        loss.backward()\n",
        "        optimizer.step()\n",
        "        \n",
        "        loss_values.append(loss.detach().cpu().item())        \n",
        "        if batch_idx % log_interval == 0:\n",
        "            print('Train Epoch: {} [{}/{} ({:.0f}%)]\\tLoss: {:.6f}'.format(\n",
        "                epoch, batch_idx * len(data), len(train_loader.dataset),\n",
        "                100. * batch_idx / len(train_loader), loss.item()))\n",
        "        \n",
        "    return loss_values"
      ]
    },
    {
      "cell_type": "code",
      "execution_count": null,
      "metadata": {
        "id": "L_ZTvDKRz9yx"
      },
      "outputs": [],
      "source": [
        "model = model.to(device)\n",
        "\n",
        "optimizer = optim.Adam(model.parameters())\n",
        "\n",
        "criterion = nn.CrossEntropyLoss()\n",
        "\n",
        "epochs = 10\n",
        "\n",
        "loss_history = []\n",
        "for epoch in range(1, epochs + 1):\n",
        "    loss_values = train(model, device, train_loader, criterion, optimizer, epoch)\n",
        "    loss_history += loss_values"
      ]
    },
    {
      "cell_type": "code",
      "execution_count": 11,
      "metadata": {
        "colab": {
          "base_uri": "https://localhost:8080/",
          "height": 449
        },
        "id": "V1VFBe_Y0Cxx",
        "outputId": "e8e95b05-823c-409e-8f23-d75000f41372"
      },
      "outputs": [
        {
          "output_type": "execute_result",
          "data": {
            "text/plain": [
              "[<matplotlib.lines.Line2D at 0x7f52de9d71c0>]"
            ]
          },
          "metadata": {},
          "execution_count": 11
        },
        {
          "output_type": "display_data",
          "data": {
            "text/plain": [
              "<Figure size 640x480 with 1 Axes>"
            ],
            "image/png": "[encoded data removed]"
          },
          "metadata": {}
        }
      ],
      "source": [
        "plt.plot(loss_history)"
      ]
    },
    {
      "cell_type": "markdown",
      "metadata": {
        "id": "jONlgxyaEwC6"
      },
      "source": [
        "### Evaluate the trained model"
      ]
    },
    {
      "cell_type": "code",
      "execution_count": 12,
      "metadata": {
        "id": "izgtCdk5DV01"
      },
      "outputs": [],
      "source": [
        "def evaluate(model, device, test_loader):\n",
        "    model.eval()\n",
        "    total = 0.\n",
        "    ok = 0.\n",
        "    for batch_idx, sample_batched in enumerate(test_loader):\n",
        "        data = sample_batched['x'].float()\n",
        "        query = sample_batched['query'].float()\n",
        "        target = sample_batched['y'].numpy()\n",
        "        data, query = data.to(device), query.to(device)\n",
        "        \n",
        "        output = model(data, query)\n",
        "        pred = np.argmax(output.detach().cpu().numpy(), axis=1)\n",
        "       \n",
        "        ok += np.sum(pred == target)\n",
        "        total += len(test_loader)\n",
        "                \n",
        "    print('Accuracy = ', ok/total)"
      ]
    },
    {
      "cell_type": "code",
      "execution_count": 13,
      "metadata": {
        "colab": {
          "base_uri": "https://localhost:8080/"
        },
        "id": "JYQGuAXpGNU7",
        "outputId": "809e23bc-9efa-4988-b0af-8aef413419d0"
      },
      "outputs": [
        {
          "output_type": "stream",
          "name": "stdout",
          "text": [
            "Accuracy =  91.18\n"
          ]
        }
      ],
      "source": [
        "evaluate(model, device, test_loader)"
      ]
    },
    {
      "cell_type": "markdown",
      "metadata": {
        "id": "CaOoDxjhhjxz"
      },
      "source": [
        "<font color=\"blue\">\n",
        "\n",
        "**EXERCISE 1**: Starting from the previous model as a template, implement the Dot-product Attention scoring function and substitute the additive one we were using before. Retrain and evalute the model.</font>\n",
        "\n",
        "<font color=\"blue\">\n",
        "\n",
        "> Hint: To transpose a tensor along specific dimensions you can use `torch.permute()`\n",
        "</font>\n",
        "\n",
        "\n",
        "<font color=\"blue\">\n",
        "\n",
        "> Hint: To perform a batch matrix-matrix product, use the function `torch.bmm()` https://pytorch.org/docs/stable/generated/torch.bmm.html \n",
        "</font>"
      ]
    },
    {
      "cell_type": "code",
      "execution_count": 53,
      "metadata": {
        "id": "qdnnbqYI5Nae"
      },
      "outputs": [],
      "source": [
        "class AttentionModel(nn.Module):\n",
        "    def __init__(self, input_dim, num_inputs, hidden_dim):\n",
        "        super(AttentionModel, self).__init__()\n",
        "        self.hidden_dim = hidden_dim\n",
        "        self.num_inputs = num_inputs\n",
        "        self.input_dim  = input_dim\n",
        "\n",
        "        # Weights (Fully Connected layers) \n",
        "        self.fc_q = nn.Linear(input_dim, hidden_dim) # Query FC\n",
        "        self.fc_k = nn.Linear(input_dim, hidden_dim) # Keys FC. Here the input acts as the keys, and there is no value\n",
        "        self.fc_v = nn.Linear(hidden_dim, 1) # Values FC\n",
        "\n",
        "    def DotProductAttention(self, query, keys):\n",
        "      query = torch.tanh(self.fc_q(query))                  #(B X 1 X hiddem_dim)\n",
        "      keys  = torch.tanh(self.fc_k(keys))                   #(B X num_inputs X hidden_dim)\n",
        "        \n",
        "      keys= torch.permute(keys,(0, 2, 1))                   #(B X hidden_dim X 1)\n",
        "      dot_product= torch.bmm(query,keys)\n",
        "      dot_product = dot_product / math.sqrt(hidden_dim)\n",
        "\n",
        "      return dot_product\n",
        "\n",
        "    def forward(self, x, query):\n",
        "        query = query.unsqueeze(1) # (B x input_dim) -> (B x 1 x input_dim)\n",
        "        \n",
        "        # Calculate attention scores\n",
        "        output = self.DotProductAttention(query, x)\n",
        "        output = output.squeeze()       # (B x 1 x num_inputs) -> (B x num_inputs)\n",
        "        return output"
      ]
    },
    {
      "cell_type": "code",
      "source": [
        "input_dim, num_inputs, hidden_dim = (784, 10, 256)\n",
        "\n",
        "model = AttentionModel(input_dim, num_inputs, hidden_dim)\n",
        "print(model)"
      ],
      "metadata": {
        "colab": {
          "base_uri": "https://localhost:8080/"
        },
        "id": "AKDlrIOKwhzB",
        "outputId": "2d83adc3-8eda-4905-d534-6096d3304140"
      },
      "execution_count": 54,
      "outputs": [
        {
          "output_type": "stream",
          "name": "stdout",
          "text": [
            "AttentionModel(\n",
            "  (fc_q): Linear(in_features=784, out_features=256, bias=True)\n",
            "  (fc_k): Linear(in_features=784, out_features=256, bias=True)\n",
            "  (fc_v): Linear(in_features=256, out_features=1, bias=True)\n",
            ")\n"
          ]
        }
      ]
    },
    {
      "cell_type": "code",
      "source": [
        "model = model.to(device)\n",
        "\n",
        "optimizer = optim.Adam(model.parameters())\n",
        "\n",
        "criterion = nn.CrossEntropyLoss()\n",
        "\n",
        "epochs = 10\n",
        "\n",
        "loss_history = []\n",
        "for epoch in range(1, epochs + 1):\n",
        "    loss_values = train(model, device, train_loader, criterion, optimizer, epoch)\n",
        "    loss_history += loss_values"
      ],
      "metadata": {
        "colab": {
          "base_uri": "https://localhost:8080/"
        },
        "id": "Iaxw9a1vwsH6",
        "outputId": "ceb87238-e55f-45d0-d0a2-ac8c0ad248be"
      },
      "execution_count": 55,
      "outputs": [
        {
          "output_type": "stream",
          "name": "stdout",
          "text": [
            "Train Epoch: 1 [0/60000 (0%)]\tLoss: 2.305042\n",
            "Train Epoch: 1 [6400/60000 (11%)]\tLoss: 1.118156\n",
            "Train Epoch: 1 [12800/60000 (21%)]\tLoss: 0.690107\n",
            "Train Epoch: 1 [19200/60000 (32%)]\tLoss: 1.034612\n",
            "Train Epoch: 1 [25600/60000 (43%)]\tLoss: 0.886627\n",
            "Train Epoch: 1 [32000/60000 (53%)]\tLoss: 0.456899\n",
            "Train Epoch: 1 [38400/60000 (64%)]\tLoss: 0.692101\n",
            "Train Epoch: 1 [44800/60000 (75%)]\tLoss: 0.479403\n",
            "Train Epoch: 1 [51200/60000 (85%)]\tLoss: 0.497218\n",
            "Train Epoch: 1 [57600/60000 (96%)]\tLoss: 0.527365\n",
            "Train Epoch: 2 [0/60000 (0%)]\tLoss: 0.499182\n",
            "Train Epoch: 2 [6400/60000 (11%)]\tLoss: 0.512261\n",
            "Train Epoch: 2 [12800/60000 (21%)]\tLoss: 0.678885\n",
            "Train Epoch: 2 [19200/60000 (32%)]\tLoss: 0.472950\n",
            "Train Epoch: 2 [25600/60000 (43%)]\tLoss: 0.409795\n",
            "Train Epoch: 2 [32000/60000 (53%)]\tLoss: 0.454470\n",
            "Train Epoch: 2 [38400/60000 (64%)]\tLoss: 0.508693\n",
            "Train Epoch: 2 [44800/60000 (75%)]\tLoss: 0.847543\n",
            "Train Epoch: 2 [51200/60000 (85%)]\tLoss: 0.208202\n",
            "Train Epoch: 2 [57600/60000 (96%)]\tLoss: 0.560936\n",
            "Train Epoch: 3 [0/60000 (0%)]\tLoss: 0.308989\n",
            "Train Epoch: 3 [6400/60000 (11%)]\tLoss: 0.401675\n",
            "Train Epoch: 3 [12800/60000 (21%)]\tLoss: 0.332254\n",
            "Train Epoch: 3 [19200/60000 (32%)]\tLoss: 0.370176\n",
            "Train Epoch: 3 [25600/60000 (43%)]\tLoss: 0.282274\n",
            "Train Epoch: 3 [32000/60000 (53%)]\tLoss: 0.260898\n",
            "Train Epoch: 3 [38400/60000 (64%)]\tLoss: 0.532231\n",
            "Train Epoch: 3 [44800/60000 (75%)]\tLoss: 0.449348\n",
            "Train Epoch: 3 [51200/60000 (85%)]\tLoss: 0.438480\n",
            "Train Epoch: 3 [57600/60000 (96%)]\tLoss: 0.338213\n",
            "Train Epoch: 4 [0/60000 (0%)]\tLoss: 0.497875\n",
            "Train Epoch: 4 [6400/60000 (11%)]\tLoss: 0.379885\n",
            "Train Epoch: 4 [12800/60000 (21%)]\tLoss: 0.431748\n",
            "Train Epoch: 4 [19200/60000 (32%)]\tLoss: 0.342375\n",
            "Train Epoch: 4 [25600/60000 (43%)]\tLoss: 0.147346\n",
            "Train Epoch: 4 [32000/60000 (53%)]\tLoss: 0.425905\n",
            "Train Epoch: 4 [38400/60000 (64%)]\tLoss: 0.361805\n",
            "Train Epoch: 4 [44800/60000 (75%)]\tLoss: 0.447511\n",
            "Train Epoch: 4 [51200/60000 (85%)]\tLoss: 0.324563\n",
            "Train Epoch: 4 [57600/60000 (96%)]\tLoss: 0.441987\n",
            "Train Epoch: 5 [0/60000 (0%)]\tLoss: 0.253257\n",
            "Train Epoch: 5 [6400/60000 (11%)]\tLoss: 0.280957\n",
            "Train Epoch: 5 [12800/60000 (21%)]\tLoss: 0.268983\n",
            "Train Epoch: 5 [19200/60000 (32%)]\tLoss: 0.341609\n",
            "Train Epoch: 5 [25600/60000 (43%)]\tLoss: 0.338685\n",
            "Train Epoch: 5 [32000/60000 (53%)]\tLoss: 0.286338\n",
            "Train Epoch: 5 [38400/60000 (64%)]\tLoss: 0.287855\n",
            "Train Epoch: 5 [44800/60000 (75%)]\tLoss: 0.301481\n",
            "Train Epoch: 5 [51200/60000 (85%)]\tLoss: 0.247568\n",
            "Train Epoch: 5 [57600/60000 (96%)]\tLoss: 0.273133\n",
            "Train Epoch: 6 [0/60000 (0%)]\tLoss: 0.226470\n",
            "Train Epoch: 6 [6400/60000 (11%)]\tLoss: 0.311776\n",
            "Train Epoch: 6 [12800/60000 (21%)]\tLoss: 0.310667\n",
            "Train Epoch: 6 [19200/60000 (32%)]\tLoss: 0.308477\n",
            "Train Epoch: 6 [25600/60000 (43%)]\tLoss: 0.230498\n",
            "Train Epoch: 6 [32000/60000 (53%)]\tLoss: 0.441083\n",
            "Train Epoch: 6 [38400/60000 (64%)]\tLoss: 0.235116\n",
            "Train Epoch: 6 [44800/60000 (75%)]\tLoss: 0.486651\n",
            "Train Epoch: 6 [51200/60000 (85%)]\tLoss: 0.243278\n",
            "Train Epoch: 6 [57600/60000 (96%)]\tLoss: 0.440641\n",
            "Train Epoch: 7 [0/60000 (0%)]\tLoss: 0.233775\n",
            "Train Epoch: 7 [6400/60000 (11%)]\tLoss: 0.203119\n",
            "Train Epoch: 7 [12800/60000 (21%)]\tLoss: 0.237658\n",
            "Train Epoch: 7 [19200/60000 (32%)]\tLoss: 0.548232\n",
            "Train Epoch: 7 [25600/60000 (43%)]\tLoss: 0.270330\n",
            "Train Epoch: 7 [32000/60000 (53%)]\tLoss: 0.230549\n",
            "Train Epoch: 7 [38400/60000 (64%)]\tLoss: 0.215033\n",
            "Train Epoch: 7 [44800/60000 (75%)]\tLoss: 0.191265\n",
            "Train Epoch: 7 [51200/60000 (85%)]\tLoss: 0.190227\n",
            "Train Epoch: 7 [57600/60000 (96%)]\tLoss: 0.281560\n",
            "Train Epoch: 8 [0/60000 (0%)]\tLoss: 0.256087\n",
            "Train Epoch: 8 [6400/60000 (11%)]\tLoss: 0.364753\n",
            "Train Epoch: 8 [12800/60000 (21%)]\tLoss: 0.283778\n",
            "Train Epoch: 8 [19200/60000 (32%)]\tLoss: 0.204691\n",
            "Train Epoch: 8 [25600/60000 (43%)]\tLoss: 0.318418\n",
            "Train Epoch: 8 [32000/60000 (53%)]\tLoss: 0.133757\n",
            "Train Epoch: 8 [38400/60000 (64%)]\tLoss: 0.300775\n",
            "Train Epoch: 8 [44800/60000 (75%)]\tLoss: 0.303459\n",
            "Train Epoch: 8 [51200/60000 (85%)]\tLoss: 0.271400\n",
            "Train Epoch: 8 [57600/60000 (96%)]\tLoss: 0.196196\n",
            "Train Epoch: 9 [0/60000 (0%)]\tLoss: 0.205040\n",
            "Train Epoch: 9 [6400/60000 (11%)]\tLoss: 0.250877\n",
            "Train Epoch: 9 [12800/60000 (21%)]\tLoss: 0.254869\n",
            "Train Epoch: 9 [19200/60000 (32%)]\tLoss: 0.252697\n",
            "Train Epoch: 9 [25600/60000 (43%)]\tLoss: 0.271600\n",
            "Train Epoch: 9 [32000/60000 (53%)]\tLoss: 0.210545\n",
            "Train Epoch: 9 [38400/60000 (64%)]\tLoss: 0.284062\n",
            "Train Epoch: 9 [44800/60000 (75%)]\tLoss: 0.175668\n",
            "Train Epoch: 9 [51200/60000 (85%)]\tLoss: 0.304907\n",
            "Train Epoch: 9 [57600/60000 (96%)]\tLoss: 0.279260\n",
            "Train Epoch: 10 [0/60000 (0%)]\tLoss: 0.150725\n",
            "Train Epoch: 10 [6400/60000 (11%)]\tLoss: 0.166885\n",
            "Train Epoch: 10 [12800/60000 (21%)]\tLoss: 0.250879\n",
            "Train Epoch: 10 [19200/60000 (32%)]\tLoss: 0.350179\n",
            "Train Epoch: 10 [25600/60000 (43%)]\tLoss: 0.226652\n",
            "Train Epoch: 10 [32000/60000 (53%)]\tLoss: 0.334170\n",
            "Train Epoch: 10 [38400/60000 (64%)]\tLoss: 0.377981\n",
            "Train Epoch: 10 [44800/60000 (75%)]\tLoss: 0.262685\n",
            "Train Epoch: 10 [51200/60000 (85%)]\tLoss: 0.392191\n",
            "Train Epoch: 10 [57600/60000 (96%)]\tLoss: 0.189079\n"
          ]
        }
      ]
    },
    {
      "cell_type": "code",
      "source": [
        "plt.plot(loss_history)"
      ],
      "metadata": {
        "colab": {
          "base_uri": "https://localhost:8080/",
          "height": 447
        },
        "id": "AZmv4u4RwuyA",
        "outputId": "167bd7e7-b418-4837-8723-ea7b0b1ccc68"
      },
      "execution_count": 56,
      "outputs": [
        {
          "output_type": "execute_result",
          "data": {
            "text/plain": [
              "[<matplotlib.lines.Line2D at 0x7f52ddc610c0>]"
            ]
          },
          "metadata": {},
          "execution_count": 56
        },
        {
          "output_type": "display_data",
          "data": {
            "text/plain": [
              "<Figure size 640x480 with 1 Axes>"
            ],
            "image/png": "[encoded data removed]"
          },
          "metadata": {}
        }
      ]
    },
    {
      "cell_type": "code",
      "source": [
        "evaluate(model, device, test_loader)"
      ],
      "metadata": {
        "colab": {
          "base_uri": "https://localhost:8080/"
        },
        "id": "nN5TLKSNwyie",
        "outputId": "b179edcd-ba5e-4da7-dc06-7265401b4da7"
      },
      "execution_count": 57,
      "outputs": [
        {
          "output_type": "stream",
          "name": "stdout",
          "text": [
            "Accuracy =  92.97\n"
          ]
        }
      ]
    }
  ],
  "metadata": {
    "accelerator": "GPU",
    "colab": {
      "provenance": [],
      "toc_visible": true
    },
    "kernelspec": {
      "display_name": "pytorch",
      "language": "python",
      "name": "pytorch"
    },
    "language_info": {
      "codemirror_mode": {
        "name": "ipython",
        "version": 3
      },
      "file_extension": ".py",
      "mimetype": "text/x-python",
      "name": "python",
      "nbconvert_exporter": "python",
      "pygments_lexer": "ipython3",
      "version": "3.9.16"
    }
  },
  "nbformat": 4,
  "nbformat_minor": 0
}