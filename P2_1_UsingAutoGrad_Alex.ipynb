{
  "cells": [
    {
      "cell_type": "markdown",
      "metadata": {
        "id": "NGv5pLCnMa-j"
      },
      "source": [
        "# Regression and classification using our AutoGrad library"
      ]
    },
    {
      "cell_type": "markdown",
      "metadata": {
        "id": "iURZtiK4Ma-q"
      },
      "source": [
        "First, we will import the latest version of our AutoGrad framework, as it resulted from the previous exercise"
      ]
    },
    {
      "cell_type": "code",
      "execution_count": null,
      "metadata": {
        "id": "eupNXobRMa-s"
      },
      "outputs": [],
      "source": [
        "import numpy as np"
      ]
    },
    {
      "cell_type": "code",
      "execution_count": null,
      "metadata": {
        "id": "6D4Rm8_7Ma-w"
      },
      "outputs": [],
      "source": [
        "def vAdd(A, B): # Addition\n",
        "    A = _ensureVariable(A)\n",
        "    B = _ensureVariable(B)\n",
        "    result = Variable(A.value + B.value) # Create a new Variable to store the result, and pass it the value = a + b\n",
        "          \n",
        "    #keep track of the parent variables, and of the local derivative associated with each one\n",
        "    if A.requiresGrad:\n",
        "        result.requiresGrad = True; # if any of the parent variables requires grad, the result should also require it\n",
        "        def gradfn(route_val):\n",
        "            return route_val # == route_val * 1, as here dresult / dA = 1\n",
        "        result.gradRoutes.append((A, gradfn)) \n",
        "    if B.requiresGrad:\n",
        "        result.requiresGrad = True; # if any of the parent variables requires grad, the result should also require it\n",
        "        def gradfn(route_val):\n",
        "            return route_val # == route_val * 1, as here dresult / dA = 1\n",
        "        result.gradRoutes.append((B, gradfn))\n",
        "    \n",
        "    return result\n",
        "    \n",
        "def vMul(A, B): # Addition\n",
        "    A = _ensureVariable(A)\n",
        "    B = _ensureVariable(B)    \n",
        "    result = Variable(A.value * B.value) # Create a new Variable to store the result, and pass it the value = a + b\n",
        "          \n",
        "    #keep track of the parent variables, and of the local derivative associated with each one\n",
        "    if A.requiresGrad:\n",
        "        result.requiresGrad = True; # if any of the parent variables requires grad, the result should also require it\n",
        "        def gradfn(route_val):\n",
        "            return route_val * B.value # dresult / dA = B\n",
        "        result.gradRoutes.append((A, gradfn)) \n",
        "    if B.requiresGrad:\n",
        "        result.requiresGrad = True; # if any of the parent variables requires grad, the result should also require it\n",
        "        def gradfn(route_val):\n",
        "            return route_val * A.value # dresult / dB = A\n",
        "        result.gradRoutes.append((B, gradfn)) \n",
        "    \n",
        "    return result\n",
        "\n",
        "#Pointwise raise to power\n",
        "def vPow(A, exponent: float):\n",
        "    A = _ensureVariable(A)\n",
        "    result = Variable(np.float_power(A.value, exponent))\n",
        "    \n",
        "    if A.requiresGrad:\n",
        "        result.requiresGrad = True; # if any of our dependencies requires grad, we should also require it\n",
        "        result.grad = 0.0 # initialise to zero\n",
        "        def gradfn(route_val):\n",
        "            return route_val * exponent*np.float_power(A.value, exponent-1)\n",
        "        result.gradRoutes.append((A, gradfn))\n",
        "        \n",
        "    return result\n",
        "    \n",
        "#Pointwise exp()\n",
        "def vExp(A):\n",
        "    A = _ensureVariable(A)\n",
        "    result = Variable(np.exp(A.value))\n",
        "    \n",
        "    if A.requiresGrad:\n",
        "        result.requiresGrad = True; # if any of our dependencies requires grad, we should also require it\n",
        "        result.grad = 0.0 # initialise to zero\n",
        "        def gradfn(route_val):\n",
        "            return route_val * np.exp(A.value)\n",
        "        result.gradRoutes.append((A, gradfn))\n",
        "\n",
        "    return result\n",
        "                    \n",
        "#Pointwise Log\n",
        "def vLog(A):\n",
        "    A = _ensureVariable(A)\n",
        "    result = Variable(np.log(A.value))\n",
        "    \n",
        "    if A.requiresGrad:\n",
        "        result.requiresGrad = True; # if any of our dependencies requires grad, we should also require it\n",
        "        result.grad = 0.0 # initialise to zero\n",
        "        def gradfn(route_val):\n",
        "            return route_val/A.value\n",
        "        result.gradRoutes.append((A, gradfn))\n",
        "\n",
        "    return result"
      ]
    },
    {
      "cell_type": "code",
      "execution_count": null,
      "metadata": {
        "id": "o6udCRRrMa-2"
      },
      "outputs": [],
      "source": [
        "def _ensureVariable(x):\n",
        "    if isinstance(x, Variable):\n",
        "        return x\n",
        "    elif isinstance(x, int) or isinstance(x, float):\n",
        "        return Variable(x)\n",
        "    else:\n",
        "        raise TypeError(\"We do not know how to convert variable of type {} to <class '__main__.Variable'>\".format(type(x)))"
      ]
    },
    {
      "cell_type": "code",
      "execution_count": null,
      "metadata": {
        "id": "_k_YURjEMa-4"
      },
      "outputs": [],
      "source": [
        "class Variable: #Simple variable. These are the leafs of our tree, they can request to have a gradient calculated, or not\n",
        "    def __init__(self, value, requiresGrad = False):\n",
        "        self.value = value\n",
        "        self.gradRoutes = [] # A variable by default has no grad Routes (was not created by anything, just defined)\n",
        "        self.grad = 0.0\n",
        "        self.requiresGrad = requiresGrad\n",
        "    \n",
        "    def backProp(self, route_val = 1.0):\n",
        "        # Add together the incoming gradients from the different routes that lead to a node - this will be the final gradient for the node\n",
        "        self.grad += route_val\n",
        "                \n",
        "        # For every parent variable and corresponding local derivative value that we have in the gradRoutes, continue with the gradient calculation\n",
        "        for variable, gradfn in self.gradRoutes:\n",
        "            # Call the gradfn() of each of the variables in our gradRouts passing the incoming gradient, and continue the backpropagation with the returned value\n",
        "            variable.backProp(gradfn(route_val))\n",
        "\n",
        "    def zeroGrad(self):\n",
        "        self.grad = 0.0\n",
        "        \n",
        "    def zeroGradsRecursively(self):\n",
        "        self.zeroGrad()\n",
        "        for variable, _ in self.gradRoutes:\n",
        "            variable.zeroGradsRecursively()\n",
        "            \n",
        "    def __add__(self, b):\n",
        "        return vAdd(self, b)\n",
        "\n",
        "    def __radd__(self, b):\n",
        "        return vAdd(self, b)\n",
        "    \n",
        "    def __sub__(self, b):\n",
        "        return vAdd(self, vMul(b, Variable(-1.0)))\n",
        "\n",
        "    def __rsub__(self, b):\n",
        "        return vAdd(b, -1 * self)\n",
        "    \n",
        "    def __mul__(self, b):\n",
        "        return vMul(self, b)\n",
        "    \n",
        "    def __rmul__(self, b): # BE CAREFUL WITH THIS ONE. While we deal with scalars, order is not a problem, when we deal with matrices, this will\n",
        "        return vMul(self, b)\n",
        "    \n",
        "    def __pow__(self, exponent):\n",
        "        return vPow(self, exponent)\n",
        "    \n",
        "    def __truediv__(self, b):\n",
        "        return vMul(self, pow(b, -1.0))\n",
        "    \n",
        "    def __rtruediv__(self, b):\n",
        "        return vMul(b, pow(self, -1.0))\n",
        "    \n",
        "    def __neg__(self):\n",
        "        return -1 * self\n",
        " \n",
        "    def __str__(self):\n",
        "        if self.requiresGrad:\n",
        "            return 'Value: {self.value}, Gradient: {self.grad}'.format(self=self)\n",
        "        else:\n",
        "            return 'Value: {self.value}, Gradient not required'.format(self=self)"
      ]
    },
    {
      "cell_type": "markdown",
      "metadata": {
        "id": "CkRsqeRtMa-7"
      },
      "source": [
        "Now we are ready to apply AutoGrad in different scenarios."
      ]
    },
    {
      "cell_type": "markdown",
      "metadata": {
        "id": "FlFkSqtFMa-8"
      },
      "source": [
        "## Polynomial Regression"
      ]
    },
    {
      "cell_type": "markdown",
      "metadata": {
        "id": "JYlCVtkQMa-8"
      },
      "source": [
        "We will use our AutoGrad framework to implement polynomial regression. First, let's create some noisy training data for the function $y = w_0 + w_1*x + w_2*x^2$ for some values of the weights $w$ ($w_0$ is the bias term). We will then try to estimate these values from the data."
      ]
    },
    {
      "cell_type": "code",
      "execution_count": null,
      "metadata": {
        "id": "McEtBUbuMa-9"
      },
      "outputs": [],
      "source": [
        "m = 100 # number of training points\n",
        "w = [-1.0, 2.0, 1.0] # These are the true values for our weights that we will then try to estimate from the data\n",
        "\n",
        "XX = 4 * np.random.rand(m) - 2 # Randomly select m points in the range [-2, 2]\n",
        "YY = w[0] + w[1] * XX + w[2] * (XX**2) # calculate the true outputs\n",
        "YY += np.random.normal(scale = 0.3, size = YY.size) # add noise to simulate observation error"
      ]
    },
    {
      "cell_type": "code",
      "execution_count": null,
      "metadata": {
        "colab": {
          "base_uri": "https://localhost:8080/",
          "height": 281
        },
        "id": "yiA1TpLWMa--",
        "outputId": "1d9195ec-8128-4fbd-a2c9-c270ca980e15"
      },
      "outputs": [
        {
          "output_type": "display_data",
          "data": {
            "text/plain": [
              "<Figure size 432x288 with 1 Axes>"
            ],
            "image/png": "[encoded data removed]"
          },
          "metadata": {
            "needs_background": "light"
          }
        }
      ],
      "source": [
        "import matplotlib.pyplot as plt\n",
        "\n",
        "plt.title('Our noisy dataset')\n",
        "plt.plot(XX, YY, '.')\n",
        "plt.show()"
      ]
    },
    {
      "cell_type": "markdown",
      "metadata": {
        "id": "PBXThKgPMa_B"
      },
      "source": [
        "Now we are ready to estimate the values of our parameters, using only the observed samples, and the knowledge that the model we are seeking is a 2 degree polynomial.\n",
        "\n",
        "First of all, we will define three variables for our weights that we will initialise to some value - you can try to change the initialisation value to check that it has no effect in the final result.\n",
        "\n",
        "We will eventually want to calculate the derivatives of the error with respect to each of these weights, so that we can apply gradient descent. Therefore, these variables require gradient calculation as well."
      ]
    },
    {
      "cell_type": "code",
      "execution_count": null,
      "metadata": {
        "id": "okjrjUvwMa_G"
      },
      "outputs": [],
      "source": [
        "# Create variables for our parameters (weights), and initialise them all to 1.0\n",
        "w0 = Variable(0.0, requiresGrad = True)\n",
        "w1 = Variable(0.0, requiresGrad = True)\n",
        "w2 = Variable(0.0, requiresGrad = True)"
      ]
    },
    {
      "cell_type": "markdown",
      "metadata": {
        "id": "WatFLxUNMa_I"
      },
      "source": [
        "Next, we do a bit of housekeeping. We define the learning rate that we will use (feel free to change it and see what happens), as well as an empty list in which we will be keeping track of the training loss as it evolves during our training.\n",
        "\n",
        "*Note that we use \"loss\" and \"cost\" quite interchangably in these notebooks - the correct way to use it would be to call loss just the individual error for a single sample, and cost the aggregated error over the whole batch. In practice you will see these names used quite interchangably by different authors, and you should be able to tell what they refer to every time you see them.*"
      ]
    },
    {
      "cell_type": "code",
      "execution_count": null,
      "metadata": {
        "id": "GcMOpcRVMa_I"
      },
      "outputs": [],
      "source": [
        "lr = 0.01 # Our learning rate\n",
        "training_loss = []"
      ]
    },
    {
      "cell_type": "markdown",
      "metadata": {
        "id": "e5h3MqDSMa_J"
      },
      "source": [
        "Now we will define our typical training loop to implement gradient descent.\n",
        "\n",
        "During each epoch we process the whole batch of data we have, and we will do 2000 epochs (feel free to change this and see what happens).\n",
        "\n",
        "Within each epoch, we will take each sample in our dataset and do a forward pass - calculate the polynomial, using our current values for the weights. The result `out` is our estimated output for the sample. We will then compare it with the true value for the sample (the noisy value we have observed). Here we will use a Mean Square Error cost, so our loss is just the square distance between the estimated and the true (observed) value.\n",
        "\n",
        "We will accumulate the loss for all samples into the `batch_loss` variable, and at the end of each epoch we will divide by the number of samples to get the average error.\n",
        "\n",
        "This is the value that we will backpropagate. This will update the gradient information of all our variables that require gradients, all the way back to the three weights. These gradients are then used to update the weights using simple gradient descent."
      ]
    },
    {
      "cell_type": "code",
      "execution_count": null,
      "metadata": {
        "colab": {
          "base_uri": "https://localhost:8080/"
        },
        "id": "cduqqytCMa_K",
        "outputId": "5c42359c-c15b-4467-e094-626846ebaaf1"
      },
      "outputs": [
        {
          "output_type": "stream",
          "name": "stdout",
          "text": [
            "Training took (secs): 25.60288667678833\n"
          ]
        }
      ],
      "source": [
        "import time\n",
        "\n",
        "t = time.time() # Keep track of the time we started\n",
        "\n",
        "for epoch in range(2000):\n",
        "\n",
        "    #Zero gradients\n",
        "    w0.zeroGrad()\n",
        "    w1.zeroGrad()\n",
        "    w2.zeroGrad()\n",
        "    \n",
        "    batch_loss = Variable(0.0)\n",
        "    for x, y in zip(XX, YY):\n",
        "        #Forward pass\n",
        "        out = w0 + w1 * x + w2 * (x**2)\n",
        "        \n",
        "        # calculate loss for this training sample\n",
        "        loss = (out - y)**2\n",
        "        \n",
        "        # accumulate losses\n",
        "        batch_loss = batch_loss + loss\n",
        "        \n",
        "\n",
        "    # calculate cost (average of the individual losses)\n",
        "    batch_loss = batch_loss/m\n",
        "    training_loss.append(batch_loss.value) # keep track of how our training loss evolves\n",
        "    \n",
        "    #backpropagate\n",
        "    batch_loss.backProp()\n",
        "\n",
        "    #Update parameters\n",
        "    w0.value = w0.value - lr * w0.grad\n",
        "    w1.value = w1.value - lr * w1.grad\n",
        "    w2.value = w2.value - lr * w2.grad    \n",
        "\n",
        "    del batch_loss # this should free some resources\n",
        "\n",
        "# Check how long it took\n",
        "print(\"Training took (secs):\", time.time() - t)"
      ]
    },
    {
      "cell_type": "markdown",
      "metadata": {
        "id": "UzO71isfMa_L"
      },
      "source": [
        "So, that took a while. Let's see what values we estimated."
      ]
    },
    {
      "cell_type": "code",
      "execution_count": null,
      "metadata": {
        "colab": {
          "base_uri": "https://localhost:8080/",
          "height": 312
        },
        "id": "_pemXjmfMa_M",
        "outputId": "ca2ba413-3eb4-4580-b4d2-5f7f3bebd253"
      },
      "outputs": [
        {
          "output_type": "stream",
          "name": "stdout",
          "text": [
            "Estimated weights: -1.0378467725017426 1.9779318680292555 1.0511155946309334\n"
          ]
        },
        {
          "output_type": "display_data",
          "data": {
            "text/plain": [
              "<Figure size 432x288 with 1 Axes>"
            ],
            "image/png": "[encoded data removed]"
          },
          "metadata": {
            "needs_background": "light"
          }
        }
      ],
      "source": [
        "# Print our our results\n",
        "print(\"Estimated weights:\", w0.value, w1.value, w2.value)\n",
        "\n",
        "#Make a plot of the evolution of the training loss\n",
        "plt.title('Evolution of the training loss')\n",
        "plt.xlabel(\"# Interation\")\n",
        "plt.ylabel(\"Training loss\")\n",
        "plt.plot(training_loss)\n",
        "plt.show()"
      ]
    },
    {
      "cell_type": "markdown",
      "metadata": {
        "id": "9-TJUrcCMa_N"
      },
      "source": [
        "The estimated values are not very far off the real values we used in the beginning. This is good news. Let's also plot the estimated polynomial to double check."
      ]
    },
    {
      "cell_type": "code",
      "execution_count": null,
      "metadata": {
        "colab": {
          "base_uri": "https://localhost:8080/",
          "height": 298
        },
        "id": "Aw3JDKrBMa_O",
        "outputId": "f6f694aa-217c-450d-a542-993e2cb76293"
      },
      "outputs": [
        {
          "output_type": "execute_result",
          "data": {
            "text/plain": [
              "[<matplotlib.lines.Line2D at 0x7f1f24cb1850>]"
            ]
          },
          "metadata": {},
          "execution_count": 11
        },
        {
          "output_type": "display_data",
          "data": {
            "text/plain": [
              "<Figure size 432x288 with 1 Axes>"
            ],
            "image/png": "[encoded data removed]"
          },
          "metadata": {
            "needs_background": "light"
          }
        }
      ],
      "source": [
        "# Plot the result\n",
        "plt.title('Our estimated fit')\n",
        "plt.plot(XX, YY, '.')\n",
        "\n",
        "x = np.arange(-2, 2, 0.1)\n",
        "y = w0.value + w1.value * x + w2.value * x**2\n",
        "plt.plot(x, y, 'r')"
      ]
    },
    {
      "cell_type": "markdown",
      "metadata": {
        "id": "UNSkRynfMa_Q"
      },
      "source": [
        "Note that the code above is VERY inefficient, but it should be readable.\n",
        "\n",
        "<font color=blue>**Question:** Can you describe / draw the computation graph we have created here.</font>"
      ]
    },
    {
      "cell_type": "markdown",
      "metadata": {
        "id": "Wk5bZqOEMa_R"
      },
      "source": [
        "---\n",
        "\n",
        "![graph.png](data:image/png;base64,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)\n",
        "---\n"
      ]
    },
    {
      "cell_type": "markdown",
      "metadata": {
        "id": "jCEPWc4XMa_S"
      },
      "source": [
        "<font color=blue>**Exercise:** Have a look at the slides of the course, and try to come up with a more efficient implementation. Measure the time it takes and confirm you are doing it better than what we achieved before.</font>"
      ]
    },
    {
      "cell_type": "markdown",
      "source": [
        "I had another manner to optimize it (by the sum of the derivative is equal to the derivative of the sum) but it reduced it in a small amount, so I was trying to vectorize that is where I found where it reduces much more, but I could not end up with a good result, so I stopped till I got my best."
      ],
      "metadata": {
        "id": "1HJQvk-dubqF"
      }
    },
    {
      "cell_type": "code",
      "execution_count": null,
      "metadata": {
        "colab": {
          "base_uri": "https://localhost:8080/"
        },
        "id": "D4x2oZT9Ma_T",
        "outputId": "47e4905d-d6fc-431e-bcba-1261ab9f4fae"
      },
      "outputs": [
        {
          "output_type": "stream",
          "name": "stdout",
          "text": [
            "Training took (secs): 0.14302706718444824\n"
          ]
        }
      ],
      "source": [
        "import time\n",
        "import numpy as np\n",
        "\n",
        "t = time.time() # Keep track of the time we started\n",
        "\n",
        "# Vectorize parameters and inputs\n",
        "w0_vec = np.array(w0.value)\n",
        "w1_vec = np.array(w1.value)\n",
        "w2_vec = np.array(w2.value)\n",
        "XX_vec = np.array(XX)\n",
        "\n",
        "for epoch in range(2000):\n",
        "\n",
        "    # Forward pass\n",
        "    out = w0_vec + w1_vec * XX_vec + w2_vec * (XX_vec**2)\n",
        "\n",
        "    # Calculate loss\n",
        "    loss = (out - YY)**2\n",
        "\n",
        "    # Calculate batch loss (average of individual losses)\n",
        "    batch_loss = np.mean(loss)\n",
        "    training_loss.append(batch_loss) # keep track of how our training loss evolves\n",
        "    \n",
        "\n",
        "\n",
        "    # Update the original parameter values\n",
        "    w0.value = w0_vec\n",
        "    w1.value = w1_vec\n",
        "    w2.value = w2_vec\n",
        "\n",
        "\n",
        "# Check how long it took\n",
        "print(\"Training took (secs):\", time.time() - t)\n",
        "\n",
        "\n"
      ]
    },
    {
      "cell_type": "code",
      "source": [
        "# Print our our results\n",
        "print(\"Estimated weights:\", w0.value, w1.value, w2.value)\n",
        "\n",
        "#Make a plot of the evolution of the training loss\n",
        "plt.title('Evolution of the training loss')\n",
        "plt.xlabel(\"# Interation\")\n",
        "plt.ylabel(\"Training loss\")\n",
        "plt.plot(training_loss)\n",
        "plt.show()"
      ],
      "metadata": {
        "colab": {
          "base_uri": "https://localhost:8080/",
          "height": 312
        },
        "id": "NcrXOxd_lPeS",
        "outputId": "3c6063a4-2b8f-427f-f55a-7436c7628df3"
      },
      "execution_count": null,
      "outputs": [
        {
          "output_type": "stream",
          "name": "stdout",
          "text": [
            "Estimated weights: -1.988993170723911 0.8438488105368953 3.029150903570227\n"
          ]
        },
        {
          "output_type": "display_data",
          "data": {
            "text/plain": [
              "<Figure size 432x288 with 1 Axes>"
            ],
            "image/png": "[encoded data removed]"
          },
          "metadata": {
            "needs_background": "light"
          }
        }
      ]
    },
    {
      "cell_type": "code",
      "source": [
        "# Plot the result\n",
        "plt.title('Our estimated fit')\n",
        "plt.plot(XX, YY, '.')\n",
        "\n",
        "x = np.arange(-2, 2, 0.1)\n",
        "y = w0.value + w1.value * x + w2.value * x**2\n",
        "plt.plot(x, y, 'r')"
      ],
      "metadata": {
        "id": "zGkNBpUSlsDx",
        "outputId": "655a08a9-b5ee-4b29-fff4-dc73bb8b704c",
        "colab": {
          "base_uri": "https://localhost:8080/",
          "height": 298
        }
      },
      "execution_count": null,
      "outputs": [
        {
          "output_type": "execute_result",
          "data": {
            "text/plain": [
              "[<matplotlib.lines.Line2D at 0x7f1f0dc46b20>]"
            ]
          },
          "metadata": {},
          "execution_count": 44
        },
        {
          "output_type": "display_data",
          "data": {
            "text/plain": [
              "<Figure size 432x288 with 1 Axes>"
            ],
            "image/png": "[encoded data removed]"
          },
          "metadata": {
            "needs_background": "light"
          }
        }
      ]
    },
    {
      "cell_type": "markdown",
      "metadata": {
        "id": "aPO9lL1FMa_U"
      },
      "source": [
        "## Classification"
      ]
    },
    {
      "cell_type": "markdown",
      "metadata": {
        "id": "3cVsZksfMa_V"
      },
      "source": [
        "Now that we have seen how this works for regression, let's apply the same approach to a simple classification problem.\n",
        "\n",
        "First, we will create some random data for two concentric classes. The decision boundary between the two classes will be a circle."
      ]
    },
    {
      "cell_type": "code",
      "execution_count": null,
      "metadata": {
        "id": "N9CxAQV9Ma_W"
      },
      "outputs": [],
      "source": [
        "m_per_class = 50\n",
        "m= 2 * m_per_class\n",
        "w = [2.0, 1.0, 3.0] # corresponding to radius and center of a circular decision boundary\n",
        "\n",
        "#Class 1 - random points inside the decision boundary\n",
        "angle = 2.0 * np.pi * np.random.rand(m_per_class)\n",
        "radius = w[0] * np.random.rand(m_per_class) #Radius in [0, w0]\n",
        "\n",
        "XX1 = w[1] + radius * np.cos(angle)\n",
        "XX2 = w[2] + radius * np.sin(angle)\n",
        "labels = np.zeros(m_per_class)\n",
        "\n",
        "#Class 2 - random points outside the decision boundary\n",
        "angle = 2.0 * np.pi * np.random.rand(m_per_class)\n",
        "radius = w[0] +  w[0] * np.random.rand(m_per_class) #Radius in [w0, 2 * w0]\n",
        "\n",
        "XX1 = np.concatenate( (XX1, w[1] + radius * np.cos(angle)) )\n",
        "XX2 = np.concatenate( (XX2, w[2] + radius * np.sin(angle)) )\n",
        "labels = np.concatenate( (labels, np.ones(m_per_class)) )"
      ]
    },
    {
      "cell_type": "code",
      "execution_count": null,
      "metadata": {
        "colab": {
          "base_uri": "https://localhost:8080/",
          "height": 340
        },
        "id": "hpbvXPQzMa_Y",
        "outputId": "f7667a94-5642-457e-d236-61d889b929b4"
      },
      "outputs": [
        {
          "output_type": "execute_result",
          "data": {
            "text/plain": [
              "<matplotlib.collections.PathCollection at 0x7f1f24b376d0>"
            ]
          },
          "metadata": {},
          "execution_count": 16
        },
        {
          "output_type": "display_data",
          "data": {
            "text/plain": [
              "<Figure size 360x360 with 1 Axes>"
            ],
            "image/png": "[encoded data removed]"
          },
          "metadata": {
            "needs_background": "light"
          }
        }
      ],
      "source": [
        "import matplotlib.pyplot as plt\n",
        "\n",
        "plt.figure(figsize = (5, 5))\n",
        "plt.scatter(XX1, XX2, c = [('red' if cl == 0 else 'blue') for cl in labels])"
      ]
    },
    {
      "cell_type": "markdown",
      "metadata": {
        "id": "eT2Su31ZMa_a"
      },
      "source": [
        "Since we have our own AutoGrad framework, instead of handcrafting features we will try to solve this directly, assuming the equation of a circle with unknown centre and radius. Our AutoGrad framework will figure out the gradients for whatever equation we give it."
      ]
    },
    {
      "cell_type": "markdown",
      "metadata": {
        "id": "t3rsvkuIMa_b"
      },
      "source": [
        "\n",
        "<font color=blue>**Exercise:** Adapt the solution for the regression problem we saw before to this scenario. This would imply changing the equation for the forward pass to the equation of a circle + sigmoid activation, and also changing the loss to a cross entropy one. Update the autograd framework as you see fit, in case you need to use operations you do not have.</font>"
      ]
    },
    {
      "cell_type": "code",
      "execution_count": null,
      "metadata": {
        "id": "LWwl1cUGMa_c"
      },
      "outputs": [],
      "source": [
        "\"\"\"\n",
        "import time\n",
        "import numpy as np\n",
        "\n",
        "t = time.time() # Keep track of the time we started\n",
        "\n",
        "# Vectorize parameters and inputs\n",
        "w0_vec = np.array(w0.value)\n",
        "w1_vec = np.array(w1.value)\n",
        "w2_vec = np.array(w2.value)\n",
        "XX1_vec = np.array(XX1)\n",
        "XX2_vec = np.array(XX2)\n",
        "rad_vec = np.array(radius)\n",
        "YY_vec = np.array(YY)\n",
        "\n",
        "for epoch in range(2000):\n",
        "\n",
        "    # Forward pass\n",
        "    out = 1 / (1 + np.exp(-(XX1_vec**2 + XX2_vec**2 - rad_vec**2))) # Equation of a circle + sigmoid activation\n",
        "\n",
        "    # Calculate cross entropy loss\n",
        "    loss = - (YY_vec * np.log(out) + (1 - YY_vec) * np.log(1 - out))\n",
        "\n",
        "    # Calculate batch loss (average of individual losses)\n",
        "    batch_loss = np.mean(loss)\n",
        "\n",
        "    training_loss.append(batch_loss) # keep track of how our training loss evolves\n",
        "\n",
        "    # Backpropagate\n",
        "    grad_out = 2 * (out - YY)\n",
        "    grad_w0 = np.mean(grad_out)\n",
        "    grad_w1 = np.mean(grad_out * XX_np)\n",
        "    grad_w2 = np.mean(grad_out * (XX_np**2))\n",
        "\n",
        "    # Update parameters\n",
        "    w0_vec = w0_vec - lr * grad_w0\n",
        "    w1_vec = w1_vec - lr * grad_w1\n",
        "    w2_vec = w2_vec - lr * grad_w2\n",
        "\n",
        "# Update the original parameter values\n",
        "w0.value = w0_vec\n",
        "w1.value = w1_vec\n",
        "w2.value = w2_vec\n",
        "\n",
        "\n",
        "# Check how long it took\n",
        "print(\"Training took (secs):\", time.time() - t)\n",
        "\n",
        "\"\"\"\n"
      ]
    },
    {
      "cell_type": "code",
      "source": [
        "import time\n",
        "\n",
        "t = time.time() # Keep track of the time we started\n",
        "Z=[]\n",
        "for epoch in range(4000):\n",
        "\n",
        "    #Zero gradients\n",
        "    w0.zeroGrad()\n",
        "    w1.zeroGrad()\n",
        "    w2.zeroGrad()\n",
        "    batch_loss = Variable(0.0)\n",
        "    for x, x2, y in zip(XX1, XX2, labels):\n",
        "        #Forward pass\n",
        "        out = (x - w1)**2 + (x2 - w2)**2 - w0**2\n",
        "        activation= 1 * 1/(1 + vExp(-out))\n",
        "\n",
        "        #Calculate the loss\n",
        "        loss = -y * vLog(activation) - (1 - y) * vLog(1 - activation)\n",
        "\n",
        "        # accumulate losses\n",
        "        batch_loss = batch_loss + loss\n",
        "        \n",
        "\n",
        "    # calculate cost (average of the individual losses)\n",
        "    batch_loss = batch_loss/m\n",
        "    training_loss.append(batch_loss.value) # keep track of how our training loss evolves\n",
        "    \n",
        "    #backpropagate\n",
        "    batch_loss.backProp()\n",
        "\n",
        "    #Update parameters\n",
        "    w0.value = w0.value - lr * w0.grad\n",
        "    w1.value = w1.value - lr * w1.grad\n",
        "    w2.value = w2.value - lr * w2.grad    \n",
        "\n",
        "    del batch_loss # this should free some resources\n",
        "\n",
        "# Check how long it took\n",
        "print(\"Training took (secs):\", time.time() - t)"
      ],
      "metadata": {
        "colab": {
          "base_uri": "https://localhost:8080/"
        },
        "id": "GIZWxdObe6jN",
        "outputId": "63dd391a-d942-4c35-93b3-8c1762f980b8"
      },
      "execution_count": null,
      "outputs": [
        {
          "output_type": "stream",
          "name": "stdout",
          "text": [
            "Training took (secs): 167.20750951766968\n"
          ]
        }
      ]
    },
    {
      "cell_type": "code",
      "source": [
        "# Print our our results\n",
        "print(\"Estimated weights:\", w0.value, w1.value, w2.value)\n",
        "\n",
        "#Make a plot of the evolution of the training loss\n",
        "plt.title('Evolution of the training loss')\n",
        "plt.xlabel(\"# Interation\")\n",
        "plt.ylabel(\"Training loss\")\n",
        "plt.plot(training_loss)\n",
        "plt.show()"
      ],
      "metadata": {
        "colab": {
          "base_uri": "https://localhost:8080/",
          "height": 312
        },
        "id": "I3TqriDghdLV",
        "outputId": "e19ea3af-7197-4a7c-c81f-50bb3b53689b"
      },
      "execution_count": null,
      "outputs": [
        {
          "output_type": "stream",
          "name": "stdout",
          "text": [
            "Estimated weights: -1.9889790889054533 0.8439239452795132 3.029155540074888\n"
          ]
        },
        {
          "output_type": "display_data",
          "data": {
            "text/plain": [
              "<Figure size 432x288 with 1 Axes>"
            ],
            "image/png": "[encoded data removed]"
          },
          "metadata": {
            "needs_background": "light"
          }
        }
      ]
    },
    {
      "cell_type": "markdown",
      "metadata": {
        "id": "kBmPEmNhMa_d"
      },
      "source": [
        "<font color=blue>**Exercise:** Once you find a solution, plot the resulting decision boundary (hint, have a look at the contour function of Matplotlib, and plot the contour of the loss function at the level 0.5)</font>"
      ]
    },
    {
      "cell_type": "code",
      "execution_count": null,
      "metadata": {
        "id": "rEkyLDUMMa_d",
        "colab": {
          "base_uri": "https://localhost:8080/",
          "height": 337
        },
        "outputId": "6e4b59a4-5b04-47af-92fd-4c306b0f7ad0"
      },
      "outputs": [
        {
          "output_type": "execute_result",
          "data": {
            "text/plain": [
              "<matplotlib.contour.QuadContourSet at 0x7f1f0d643b80>"
            ]
          },
          "metadata": {},
          "execution_count": 45
        },
        {
          "output_type": "display_data",
          "data": {
            "text/plain": [
              "<Figure size 360x360 with 1 Axes>"
            ],
            "image/png": "[encoded data removed]"
          },
          "metadata": {
            "needs_background": "light"
          }
        }
      ],
      "source": [
        "import matplotlib.pyplot as plt\n",
        "\n",
        "x_min, x_max = XX1.min() - 1, XX1.max() + 1\n",
        "y_min, y_max = XX2.min() - 1, XX2.max() + 1\n",
        "xx, yy = np.meshgrid(np.arange(x_min, x_max, 0.1), np.arange(y_min, y_max, 0.1))\n",
        "\n",
        "out = (xx - w1.value)**2 + (yy - w2.value)**2 - w0.value**2\n",
        "\n",
        "plt.figure(figsize = (5, 5))\n",
        "plt.scatter(XX1, XX2, c = [('red' if cl == 0 else 'black') for cl in labels])\n",
        "plt.contour(xx, yy, out, levels=[0.5], colors='yellow')\n"
      ]
    },
    {
      "cell_type": "markdown",
      "metadata": {
        "id": "-5fr-MXEMa_e"
      },
      "source": [
        "<font color=blue>**Exercise:** Evaluate your classifier and calculate the accuracy over the training dataset. If you feel adventurous, generate a separate test set with the same parameters and evaluate there.</font>"
      ]
    },
    {
      "cell_type": "code",
      "execution_count": null,
      "metadata": {
        "id": "NyBK4hW1Ma_f",
        "colab": {
          "base_uri": "https://localhost:8080/"
        },
        "outputId": "55ff066b-8fac-4307-ebdb-30c4994df9d3"
      },
      "outputs": [
        {
          "output_type": "execute_result",
          "data": {
            "text/plain": [
              "0.98"
            ]
          },
          "metadata": {},
          "execution_count": 49
        }
      ],
      "source": [
        "out = (XX1 - w1.value)**2 + (XX2 - w2.value)**2 - w0.value**2\n",
        "out[out > 0] = 1\n",
        "out[out < 0] = 0\n",
        "from sklearn.metrics import precision_score\n",
        "precision_score(labels, out)"
      ]
    },
    {
      "cell_type": "code",
      "execution_count": null,
      "metadata": {
        "id": "MmorC8e_Ma_g"
      },
      "outputs": [],
      "source": []
    }
  ],
  "metadata": {
    "kernelspec": {
      "display_name": "Python 3 (ipykernel)",
      "language": "python",
      "name": "python3"
    },
    "language_info": {
      "codemirror_mode": {
        "name": "ipython",
        "version": 3
      },
      "file_extension": ".py",
      "mimetype": "text/x-python",
      "name": "python",
      "nbconvert_exporter": "python",
      "pygments_lexer": "ipython3",
      "version": "3.7.16"
    },
    "colab": {
      "provenance": []
    }
  },
  "nbformat": 4,
  "nbformat_minor": 0
}